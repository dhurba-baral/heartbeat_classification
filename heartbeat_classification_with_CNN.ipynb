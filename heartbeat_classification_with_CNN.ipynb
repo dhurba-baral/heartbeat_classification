{
 "cells": [
  {
   "cell_type": "code",
   "execution_count": 1,
   "id": "58faeb20",
   "metadata": {
    "_cell_guid": "b1076dfc-b9ad-4769-8c92-a6c4dae69d19",
    "_uuid": "8f2839f25d086af736a60e9eeb907d3b93b6e0e5",
    "execution": {
     "iopub.execute_input": "2025-10-17T07:27:21.022869Z",
     "iopub.status.busy": "2025-10-17T07:27:21.022553Z",
     "iopub.status.idle": "2025-10-17T07:27:22.842420Z",
     "shell.execute_reply": "2025-10-17T07:27:22.841586Z"
    },
    "papermill": {
     "duration": 1.831123,
     "end_time": "2025-10-17T07:27:22.844063",
     "exception": false,
     "start_time": "2025-10-17T07:27:21.012940",
     "status": "completed"
    },
    "tags": []
   },
   "outputs": [
    {
     "name": "stdout",
     "output_type": "stream",
     "text": [
      "/kaggle/input/deep-learning-course-midterm/sample_submission.csv\n",
      "/kaggle/input/deep-learning-course-midterm/train.csv\n",
      "/kaggle/input/deep-learning-course-midterm/test.csv\n"
     ]
    }
   ],
   "source": [
    "# This Python 3 environment comes with many helpful analytics libraries installed\n",
    "# It is defined by the kaggle/python Docker image: https://github.com/kaggle/docker-python\n",
    "# For example, here's several helpful packages to load\n",
    "\n",
    "import numpy as np # linear algebra\n",
    "import pandas as pd # data processing, CSV file I/O (e.g. pd.read_csv)\n",
    "\n",
    "# Input data files are available in the read-only \"../input/\" directory\n",
    "# For example, running this (by clicking run or pressing Shift+Enter) will list all files under the input directory\n",
    "\n",
    "import os\n",
    "for dirname, _, filenames in os.walk('/kaggle/input'):\n",
    "    for filename in filenames:\n",
    "        print(os.path.join(dirname, filename))\n",
    "\n",
    "# You can write up to 20GB to the current directory (/kaggle/working/) that gets preserved as output when you create a version using \"Save & Run All\" \n",
    "# You can also write temporary files to /kaggle/temp/, but they won't be saved outside of the current session"
   ]
  },
  {
   "cell_type": "code",
   "execution_count": 2,
   "id": "87344fdd",
   "metadata": {
    "execution": {
     "iopub.execute_input": "2025-10-17T07:27:22.860492Z",
     "iopub.status.busy": "2025-10-17T07:27:22.859235Z",
     "iopub.status.idle": "2025-10-17T07:27:22.864215Z",
     "shell.execute_reply": "2025-10-17T07:27:22.863319Z"
    },
    "papermill": {
     "duration": 0.014041,
     "end_time": "2025-10-17T07:27:22.865592",
     "exception": false,
     "start_time": "2025-10-17T07:27:22.851551",
     "status": "completed"
    },
    "tags": []
   },
   "outputs": [],
   "source": [
    "#import the requirements\n",
    "import pandas as pd"
   ]
  },
  {
   "cell_type": "markdown",
   "id": "cf6cc70d",
   "metadata": {
    "papermill": {
     "duration": 0.006369,
     "end_time": "2025-10-17T07:27:22.878800",
     "exception": false,
     "start_time": "2025-10-17T07:27:22.872431",
     "status": "completed"
    },
    "tags": []
   },
   "source": [
    "# Data Analysis and Preprocessing"
   ]
  },
  {
   "cell_type": "code",
   "execution_count": 3,
   "id": "baffef87",
   "metadata": {
    "execution": {
     "iopub.execute_input": "2025-10-17T07:27:22.893251Z",
     "iopub.status.busy": "2025-10-17T07:27:22.892928Z",
     "iopub.status.idle": "2025-10-17T07:27:31.657186Z",
     "shell.execute_reply": "2025-10-17T07:27:31.656034Z"
    },
    "papermill": {
     "duration": 8.773917,
     "end_time": "2025-10-17T07:27:31.659311",
     "exception": false,
     "start_time": "2025-10-17T07:27:22.885394",
     "status": "completed"
    },
    "tags": []
   },
   "outputs": [],
   "source": [
    "#check the csvs\n",
    "train_data = pd.read_csv(\"/kaggle/input/deep-learning-course-midterm/train.csv\")\n",
    "test_data = pd.read_csv(\"/kaggle/input/deep-learning-course-midterm/test.csv\")"
   ]
  },
  {
   "cell_type": "code",
   "execution_count": 4,
   "id": "de64fdf2",
   "metadata": {
    "execution": {
     "iopub.execute_input": "2025-10-17T07:27:31.674798Z",
     "iopub.status.busy": "2025-10-17T07:27:31.674468Z",
     "iopub.status.idle": "2025-10-17T07:27:31.711557Z",
     "shell.execute_reply": "2025-10-17T07:27:31.710633Z"
    },
    "papermill": {
     "duration": 0.046536,
     "end_time": "2025-10-17T07:27:31.712953",
     "exception": false,
     "start_time": "2025-10-17T07:27:31.666417",
     "status": "completed"
    },
    "tags": []
   },
   "outputs": [
    {
     "data": {
      "text/html": [
       "<div>\n",
       "<style scoped>\n",
       "    .dataframe tbody tr th:only-of-type {\n",
       "        vertical-align: middle;\n",
       "    }\n",
       "\n",
       "    .dataframe tbody tr th {\n",
       "        vertical-align: top;\n",
       "    }\n",
       "\n",
       "    .dataframe thead th {\n",
       "        text-align: right;\n",
       "    }\n",
       "</style>\n",
       "<table border=\"1\" class=\"dataframe\">\n",
       "  <thead>\n",
       "    <tr style=\"text-align: right;\">\n",
       "      <th></th>\n",
       "      <th>id</th>\n",
       "      <th>record</th>\n",
       "      <th>type</th>\n",
       "      <th>0_pre-RR</th>\n",
       "      <th>0_post-RR</th>\n",
       "      <th>0_pPeak</th>\n",
       "      <th>0_tPeak</th>\n",
       "      <th>0_rPeak</th>\n",
       "      <th>0_sPeak</th>\n",
       "      <th>0_qPeak</th>\n",
       "      <th>...</th>\n",
       "      <th>1_qPeak</th>\n",
       "      <th>1_qrs_interval</th>\n",
       "      <th>1_pq_interval</th>\n",
       "      <th>1_qt_interval</th>\n",
       "      <th>1_st_interval</th>\n",
       "      <th>1_qrs_morph0</th>\n",
       "      <th>1_qrs_morph1</th>\n",
       "      <th>1_qrs_morph2</th>\n",
       "      <th>1_qrs_morph3</th>\n",
       "      <th>1_qrs_morph4</th>\n",
       "    </tr>\n",
       "  </thead>\n",
       "  <tbody>\n",
       "    <tr>\n",
       "      <th>0</th>\n",
       "      <td>1</td>\n",
       "      <td>I13</td>\n",
       "      <td>N</td>\n",
       "      <td>256.0</td>\n",
       "      <td>257.0</td>\n",
       "      <td>-0.025436</td>\n",
       "      <td>-0.369672</td>\n",
       "      <td>1.529989</td>\n",
       "      <td>-0.619057</td>\n",
       "      <td>-0.079256</td>\n",
       "      <td>...</td>\n",
       "      <td>-0.036850</td>\n",
       "      <td>5.0</td>\n",
       "      <td>2.0</td>\n",
       "      <td>15.0</td>\n",
       "      <td>8.0</td>\n",
       "      <td>-0.036850</td>\n",
       "      <td>-0.175291</td>\n",
       "      <td>-0.343045</td>\n",
       "      <td>-0.511080</td>\n",
       "      <td>-0.644588</td>\n",
       "    </tr>\n",
       "    <tr>\n",
       "      <th>1</th>\n",
       "      <td>2</td>\n",
       "      <td>867</td>\n",
       "      <td>N</td>\n",
       "      <td>91.0</td>\n",
       "      <td>101.0</td>\n",
       "      <td>0.005207</td>\n",
       "      <td>0.205958</td>\n",
       "      <td>-0.005508</td>\n",
       "      <td>-0.512249</td>\n",
       "      <td>-0.005508</td>\n",
       "      <td>...</td>\n",
       "      <td>-0.062579</td>\n",
       "      <td>18.0</td>\n",
       "      <td>1.0</td>\n",
       "      <td>23.0</td>\n",
       "      <td>4.0</td>\n",
       "      <td>-0.062579</td>\n",
       "      <td>0.034085</td>\n",
       "      <td>0.166282</td>\n",
       "      <td>0.677930</td>\n",
       "      <td>-0.205569</td>\n",
       "    </tr>\n",
       "    <tr>\n",
       "      <th>2</th>\n",
       "      <td>3</td>\n",
       "      <td>106</td>\n",
       "      <td>N</td>\n",
       "      <td>291.0</td>\n",
       "      <td>287.0</td>\n",
       "      <td>0.347613</td>\n",
       "      <td>1.470143</td>\n",
       "      <td>1.424123</td>\n",
       "      <td>1.424123</td>\n",
       "      <td>-0.090802</td>\n",
       "      <td>...</td>\n",
       "      <td>-0.052524</td>\n",
       "      <td>2.0</td>\n",
       "      <td>5.0</td>\n",
       "      <td>15.0</td>\n",
       "      <td>8.0</td>\n",
       "      <td>-0.052524</td>\n",
       "      <td>-0.052524</td>\n",
       "      <td>-0.052524</td>\n",
       "      <td>-0.050269</td>\n",
       "      <td>-0.050269</td>\n",
       "    </tr>\n",
       "    <tr>\n",
       "      <th>3</th>\n",
       "      <td>4</td>\n",
       "      <td>49.0</td>\n",
       "      <td>N</td>\n",
       "      <td>274.0</td>\n",
       "      <td>278.0</td>\n",
       "      <td>0.023990</td>\n",
       "      <td>0.878232</td>\n",
       "      <td>0.815362</td>\n",
       "      <td>0.815362</td>\n",
       "      <td>-0.032605</td>\n",
       "      <td>...</td>\n",
       "      <td>-0.107051</td>\n",
       "      <td>1.0</td>\n",
       "      <td>5.0</td>\n",
       "      <td>14.0</td>\n",
       "      <td>8.0</td>\n",
       "      <td>-0.107051</td>\n",
       "      <td>-0.107051</td>\n",
       "      <td>-0.107051</td>\n",
       "      <td>-0.107051</td>\n",
       "      <td>-0.107051</td>\n",
       "    </tr>\n",
       "    <tr>\n",
       "      <th>4</th>\n",
       "      <td>5</td>\n",
       "      <td>34.0</td>\n",
       "      <td>N</td>\n",
       "      <td>242.0</td>\n",
       "      <td>242.0</td>\n",
       "      <td>0.092220</td>\n",
       "      <td>1.011302</td>\n",
       "      <td>-0.078682</td>\n",
       "      <td>-0.078682</td>\n",
       "      <td>-0.078682</td>\n",
       "      <td>...</td>\n",
       "      <td>-0.010008</td>\n",
       "      <td>19.0</td>\n",
       "      <td>3.0</td>\n",
       "      <td>27.0</td>\n",
       "      <td>5.0</td>\n",
       "      <td>-0.010008</td>\n",
       "      <td>0.004223</td>\n",
       "      <td>0.115988</td>\n",
       "      <td>0.164468</td>\n",
       "      <td>-0.013203</td>\n",
       "    </tr>\n",
       "  </tbody>\n",
       "</table>\n",
       "<p>5 rows × 35 columns</p>\n",
       "</div>"
      ],
      "text/plain": [
       "   id record type  0_pre-RR  0_post-RR   0_pPeak   0_tPeak   0_rPeak  \\\n",
       "0   1    I13    N     256.0      257.0 -0.025436 -0.369672  1.529989   \n",
       "1   2    867    N      91.0      101.0  0.005207  0.205958 -0.005508   \n",
       "2   3    106    N     291.0      287.0  0.347613  1.470143  1.424123   \n",
       "3   4   49.0    N     274.0      278.0  0.023990  0.878232  0.815362   \n",
       "4   5   34.0    N     242.0      242.0  0.092220  1.011302 -0.078682   \n",
       "\n",
       "    0_sPeak   0_qPeak  ...   1_qPeak  1_qrs_interval  1_pq_interval  \\\n",
       "0 -0.619057 -0.079256  ... -0.036850             5.0            2.0   \n",
       "1 -0.512249 -0.005508  ... -0.062579            18.0            1.0   \n",
       "2  1.424123 -0.090802  ... -0.052524             2.0            5.0   \n",
       "3  0.815362 -0.032605  ... -0.107051             1.0            5.0   \n",
       "4 -0.078682 -0.078682  ... -0.010008            19.0            3.0   \n",
       "\n",
       "   1_qt_interval  1_st_interval  1_qrs_morph0  1_qrs_morph1  1_qrs_morph2  \\\n",
       "0           15.0            8.0     -0.036850     -0.175291     -0.343045   \n",
       "1           23.0            4.0     -0.062579      0.034085      0.166282   \n",
       "2           15.0            8.0     -0.052524     -0.052524     -0.052524   \n",
       "3           14.0            8.0     -0.107051     -0.107051     -0.107051   \n",
       "4           27.0            5.0     -0.010008      0.004223      0.115988   \n",
       "\n",
       "   1_qrs_morph3  1_qrs_morph4  \n",
       "0     -0.511080     -0.644588  \n",
       "1      0.677930     -0.205569  \n",
       "2     -0.050269     -0.050269  \n",
       "3     -0.107051     -0.107051  \n",
       "4      0.164468     -0.013203  \n",
       "\n",
       "[5 rows x 35 columns]"
      ]
     },
     "execution_count": 4,
     "metadata": {},
     "output_type": "execute_result"
    }
   ],
   "source": [
    "train_data.head()"
   ]
  },
  {
   "cell_type": "code",
   "execution_count": 5,
   "id": "003a5ff2",
   "metadata": {
    "execution": {
     "iopub.execute_input": "2025-10-17T07:27:31.729508Z",
     "iopub.status.busy": "2025-10-17T07:27:31.728449Z",
     "iopub.status.idle": "2025-10-17T07:27:31.748687Z",
     "shell.execute_reply": "2025-10-17T07:27:31.747702Z"
    },
    "papermill": {
     "duration": 0.029732,
     "end_time": "2025-10-17T07:27:31.750079",
     "exception": false,
     "start_time": "2025-10-17T07:27:31.720347",
     "status": "completed"
    },
    "tags": []
   },
   "outputs": [
    {
     "data": {
      "text/html": [
       "<div>\n",
       "<style scoped>\n",
       "    .dataframe tbody tr th:only-of-type {\n",
       "        vertical-align: middle;\n",
       "    }\n",
       "\n",
       "    .dataframe tbody tr th {\n",
       "        vertical-align: top;\n",
       "    }\n",
       "\n",
       "    .dataframe thead th {\n",
       "        text-align: right;\n",
       "    }\n",
       "</style>\n",
       "<table border=\"1\" class=\"dataframe\">\n",
       "  <thead>\n",
       "    <tr style=\"text-align: right;\">\n",
       "      <th></th>\n",
       "      <th>id</th>\n",
       "      <th>record</th>\n",
       "      <th>0_pre-RR</th>\n",
       "      <th>0_post-RR</th>\n",
       "      <th>0_pPeak</th>\n",
       "      <th>0_tPeak</th>\n",
       "      <th>0_rPeak</th>\n",
       "      <th>0_sPeak</th>\n",
       "      <th>0_qPeak</th>\n",
       "      <th>0_qrs_interval</th>\n",
       "      <th>...</th>\n",
       "      <th>1_qPeak</th>\n",
       "      <th>1_qrs_interval</th>\n",
       "      <th>1_pq_interval</th>\n",
       "      <th>1_qt_interval</th>\n",
       "      <th>1_st_interval</th>\n",
       "      <th>1_qrs_morph0</th>\n",
       "      <th>1_qrs_morph1</th>\n",
       "      <th>1_qrs_morph2</th>\n",
       "      <th>1_qrs_morph3</th>\n",
       "      <th>1_qrs_morph4</th>\n",
       "    </tr>\n",
       "  </thead>\n",
       "  <tbody>\n",
       "    <tr>\n",
       "      <th>0</th>\n",
       "      <td>1</td>\n",
       "      <td>32.0</td>\n",
       "      <td>190.0</td>\n",
       "      <td>188.0</td>\n",
       "      <td>0.107335</td>\n",
       "      <td>0.432600</td>\n",
       "      <td>-0.022734</td>\n",
       "      <td>-0.022734</td>\n",
       "      <td>-0.070402</td>\n",
       "      <td>14.0</td>\n",
       "      <td>...</td>\n",
       "      <td>-0.173336</td>\n",
       "      <td>5.0</td>\n",
       "      <td>19.0</td>\n",
       "      <td>41.0</td>\n",
       "      <td>17.0</td>\n",
       "      <td>-0.173336</td>\n",
       "      <td>-0.238194</td>\n",
       "      <td>-0.310729</td>\n",
       "      <td>-0.382699</td>\n",
       "      <td>-0.442381</td>\n",
       "    </tr>\n",
       "    <tr>\n",
       "      <th>1</th>\n",
       "      <td>2</td>\n",
       "      <td>32.0</td>\n",
       "      <td>174.0</td>\n",
       "      <td>170.0</td>\n",
       "      <td>0.078369</td>\n",
       "      <td>0.300423</td>\n",
       "      <td>-0.039887</td>\n",
       "      <td>-0.039887</td>\n",
       "      <td>-0.076791</td>\n",
       "      <td>9.0</td>\n",
       "      <td>...</td>\n",
       "      <td>-0.076935</td>\n",
       "      <td>8.0</td>\n",
       "      <td>13.0</td>\n",
       "      <td>39.0</td>\n",
       "      <td>18.0</td>\n",
       "      <td>-0.076935</td>\n",
       "      <td>-0.113860</td>\n",
       "      <td>-0.236910</td>\n",
       "      <td>-0.322416</td>\n",
       "      <td>-0.505188</td>\n",
       "    </tr>\n",
       "    <tr>\n",
       "      <th>2</th>\n",
       "      <td>3</td>\n",
       "      <td>36.0</td>\n",
       "      <td>270.0</td>\n",
       "      <td>274.0</td>\n",
       "      <td>0.041601</td>\n",
       "      <td>0.603728</td>\n",
       "      <td>0.212613</td>\n",
       "      <td>0.212613</td>\n",
       "      <td>0.035339</td>\n",
       "      <td>6.0</td>\n",
       "      <td>...</td>\n",
       "      <td>0.015168</td>\n",
       "      <td>15.0</td>\n",
       "      <td>10.0</td>\n",
       "      <td>37.0</td>\n",
       "      <td>12.0</td>\n",
       "      <td>0.015168</td>\n",
       "      <td>0.019182</td>\n",
       "      <td>0.028516</td>\n",
       "      <td>-0.022568</td>\n",
       "      <td>-0.296055</td>\n",
       "    </tr>\n",
       "    <tr>\n",
       "      <th>3</th>\n",
       "      <td>4</td>\n",
       "      <td>205</td>\n",
       "      <td>266.0</td>\n",
       "      <td>268.0</td>\n",
       "      <td>0.010179</td>\n",
       "      <td>0.943830</td>\n",
       "      <td>0.913318</td>\n",
       "      <td>0.913318</td>\n",
       "      <td>-0.018720</td>\n",
       "      <td>10.0</td>\n",
       "      <td>...</td>\n",
       "      <td>-0.037889</td>\n",
       "      <td>6.0</td>\n",
       "      <td>3.0</td>\n",
       "      <td>18.0</td>\n",
       "      <td>9.0</td>\n",
       "      <td>-0.037889</td>\n",
       "      <td>-0.060003</td>\n",
       "      <td>-0.089765</td>\n",
       "      <td>-0.124220</td>\n",
       "      <td>-0.158533</td>\n",
       "    </tr>\n",
       "    <tr>\n",
       "      <th>4</th>\n",
       "      <td>5</td>\n",
       "      <td>49.0</td>\n",
       "      <td>268.0</td>\n",
       "      <td>272.0</td>\n",
       "      <td>0.021818</td>\n",
       "      <td>0.738181</td>\n",
       "      <td>0.725056</td>\n",
       "      <td>0.725056</td>\n",
       "      <td>-0.044609</td>\n",
       "      <td>30.0</td>\n",
       "      <td>...</td>\n",
       "      <td>-0.119538</td>\n",
       "      <td>0.0</td>\n",
       "      <td>6.0</td>\n",
       "      <td>13.0</td>\n",
       "      <td>7.0</td>\n",
       "      <td>-0.119538</td>\n",
       "      <td>-0.119538</td>\n",
       "      <td>-0.119538</td>\n",
       "      <td>-0.119538</td>\n",
       "      <td>-0.119538</td>\n",
       "    </tr>\n",
       "  </tbody>\n",
       "</table>\n",
       "<p>5 rows × 34 columns</p>\n",
       "</div>"
      ],
      "text/plain": [
       "   id record  0_pre-RR  0_post-RR   0_pPeak   0_tPeak   0_rPeak   0_sPeak  \\\n",
       "0   1   32.0     190.0      188.0  0.107335  0.432600 -0.022734 -0.022734   \n",
       "1   2   32.0     174.0      170.0  0.078369  0.300423 -0.039887 -0.039887   \n",
       "2   3   36.0     270.0      274.0  0.041601  0.603728  0.212613  0.212613   \n",
       "3   4    205     266.0      268.0  0.010179  0.943830  0.913318  0.913318   \n",
       "4   5   49.0     268.0      272.0  0.021818  0.738181  0.725056  0.725056   \n",
       "\n",
       "    0_qPeak  0_qrs_interval  ...   1_qPeak  1_qrs_interval  1_pq_interval  \\\n",
       "0 -0.070402            14.0  ... -0.173336             5.0           19.0   \n",
       "1 -0.076791             9.0  ... -0.076935             8.0           13.0   \n",
       "2  0.035339             6.0  ...  0.015168            15.0           10.0   \n",
       "3 -0.018720            10.0  ... -0.037889             6.0            3.0   \n",
       "4 -0.044609            30.0  ... -0.119538             0.0            6.0   \n",
       "\n",
       "   1_qt_interval  1_st_interval  1_qrs_morph0  1_qrs_morph1  1_qrs_morph2  \\\n",
       "0           41.0           17.0     -0.173336     -0.238194     -0.310729   \n",
       "1           39.0           18.0     -0.076935     -0.113860     -0.236910   \n",
       "2           37.0           12.0      0.015168      0.019182      0.028516   \n",
       "3           18.0            9.0     -0.037889     -0.060003     -0.089765   \n",
       "4           13.0            7.0     -0.119538     -0.119538     -0.119538   \n",
       "\n",
       "   1_qrs_morph3  1_qrs_morph4  \n",
       "0     -0.382699     -0.442381  \n",
       "1     -0.322416     -0.505188  \n",
       "2     -0.022568     -0.296055  \n",
       "3     -0.124220     -0.158533  \n",
       "4     -0.119538     -0.119538  \n",
       "\n",
       "[5 rows x 34 columns]"
      ]
     },
     "execution_count": 5,
     "metadata": {},
     "output_type": "execute_result"
    }
   ],
   "source": [
    "test_data.head()"
   ]
  },
  {
   "cell_type": "code",
   "execution_count": 6,
   "id": "ba85774d",
   "metadata": {
    "execution": {
     "iopub.execute_input": "2025-10-17T07:27:31.767250Z",
     "iopub.status.busy": "2025-10-17T07:27:31.766459Z",
     "iopub.status.idle": "2025-10-17T07:27:31.774272Z",
     "shell.execute_reply": "2025-10-17T07:27:31.773361Z"
    },
    "papermill": {
     "duration": 0.017636,
     "end_time": "2025-10-17T07:27:31.775579",
     "exception": false,
     "start_time": "2025-10-17T07:27:31.757943",
     "status": "completed"
    },
    "tags": []
   },
   "outputs": [
    {
     "data": {
      "text/plain": [
       "Index(['id', 'record', 'type', '0_pre-RR', '0_post-RR', '0_pPeak', '0_tPeak',\n",
       "       '0_rPeak', '0_sPeak', '0_qPeak', '0_qrs_interval', '0_pq_interval',\n",
       "       '0_qt_interval', '0_st_interval', '0_qrs_morph0', '0_qrs_morph1',\n",
       "       '0_qrs_morph2', '0_qrs_morph3', '0_qrs_morph4', '1_pre-RR', '1_post-RR',\n",
       "       '1_pPeak', '1_tPeak', '1_rPeak', '1_sPeak', '1_qPeak', '1_qrs_interval',\n",
       "       '1_pq_interval', '1_qt_interval', '1_st_interval', '1_qrs_morph0',\n",
       "       '1_qrs_morph1', '1_qrs_morph2', '1_qrs_morph3', '1_qrs_morph4'],\n",
       "      dtype='object')"
      ]
     },
     "execution_count": 6,
     "metadata": {},
     "output_type": "execute_result"
    }
   ],
   "source": [
    "train_data.columns"
   ]
  },
  {
   "cell_type": "code",
   "execution_count": 7,
   "id": "7b5845a1",
   "metadata": {
    "execution": {
     "iopub.execute_input": "2025-10-17T07:27:31.791708Z",
     "iopub.status.busy": "2025-10-17T07:27:31.791417Z",
     "iopub.status.idle": "2025-10-17T07:27:33.279941Z",
     "shell.execute_reply": "2025-10-17T07:27:33.278962Z"
    },
    "papermill": {
     "duration": 1.498348,
     "end_time": "2025-10-17T07:27:33.281483",
     "exception": false,
     "start_time": "2025-10-17T07:27:31.783135",
     "status": "completed"
    },
    "tags": []
   },
   "outputs": [
    {
     "data": {
      "text/html": [
       "<div>\n",
       "<style scoped>\n",
       "    .dataframe tbody tr th:only-of-type {\n",
       "        vertical-align: middle;\n",
       "    }\n",
       "\n",
       "    .dataframe tbody tr th {\n",
       "        vertical-align: top;\n",
       "    }\n",
       "\n",
       "    .dataframe thead th {\n",
       "        text-align: right;\n",
       "    }\n",
       "</style>\n",
       "<table border=\"1\" class=\"dataframe\">\n",
       "  <thead>\n",
       "    <tr style=\"text-align: right;\">\n",
       "      <th></th>\n",
       "      <th>id</th>\n",
       "      <th>0_pre-RR</th>\n",
       "      <th>0_post-RR</th>\n",
       "      <th>0_pPeak</th>\n",
       "      <th>0_tPeak</th>\n",
       "      <th>0_rPeak</th>\n",
       "      <th>0_sPeak</th>\n",
       "      <th>0_qPeak</th>\n",
       "      <th>0_qrs_interval</th>\n",
       "      <th>0_pq_interval</th>\n",
       "      <th>...</th>\n",
       "      <th>1_qPeak</th>\n",
       "      <th>1_qrs_interval</th>\n",
       "      <th>1_pq_interval</th>\n",
       "      <th>1_qt_interval</th>\n",
       "      <th>1_st_interval</th>\n",
       "      <th>1_qrs_morph0</th>\n",
       "      <th>1_qrs_morph1</th>\n",
       "      <th>1_qrs_morph2</th>\n",
       "      <th>1_qrs_morph3</th>\n",
       "      <th>1_qrs_morph4</th>\n",
       "    </tr>\n",
       "  </thead>\n",
       "  <tbody>\n",
       "    <tr>\n",
       "      <th>count</th>\n",
       "      <td>770923.000000</td>\n",
       "      <td>709850.000000</td>\n",
       "      <td>709850.000000</td>\n",
       "      <td>709850.000000</td>\n",
       "      <td>709850.000000</td>\n",
       "      <td>709850.000000</td>\n",
       "      <td>709850.000000</td>\n",
       "      <td>709850.000000</td>\n",
       "      <td>709850.000000</td>\n",
       "      <td>709850.000000</td>\n",
       "      <td>...</td>\n",
       "      <td>631220.000000</td>\n",
       "      <td>631220.000000</td>\n",
       "      <td>631220.000000</td>\n",
       "      <td>631220.000000</td>\n",
       "      <td>631220.000000</td>\n",
       "      <td>631220.000000</td>\n",
       "      <td>631220.000000</td>\n",
       "      <td>631220.000000</td>\n",
       "      <td>631220.000000</td>\n",
       "      <td>631220.000000</td>\n",
       "    </tr>\n",
       "    <tr>\n",
       "      <th>mean</th>\n",
       "      <td>385462.000000</td>\n",
       "      <td>201.009236</td>\n",
       "      <td>201.059607</td>\n",
       "      <td>0.058705</td>\n",
       "      <td>0.438354</td>\n",
       "      <td>0.524657</td>\n",
       "      <td>-0.374096</td>\n",
       "      <td>-0.126095</td>\n",
       "      <td>17.876041</td>\n",
       "      <td>9.843125</td>\n",
       "      <td>...</td>\n",
       "      <td>-0.199521</td>\n",
       "      <td>8.542500</td>\n",
       "      <td>8.444831</td>\n",
       "      <td>27.738696</td>\n",
       "      <td>10.751366</td>\n",
       "      <td>-0.199521</td>\n",
       "      <td>-0.207515</td>\n",
       "      <td>-0.215045</td>\n",
       "      <td>-0.231361</td>\n",
       "      <td>-0.355536</td>\n",
       "    </tr>\n",
       "    <tr>\n",
       "      <th>std</th>\n",
       "      <td>222546.445124</td>\n",
       "      <td>79.698682</td>\n",
       "      <td>80.701501</td>\n",
       "      <td>0.189891</td>\n",
       "      <td>0.655704</td>\n",
       "      <td>0.756126</td>\n",
       "      <td>0.695246</td>\n",
       "      <td>0.276728</td>\n",
       "      <td>13.897318</td>\n",
       "      <td>9.511780</td>\n",
       "      <td>...</td>\n",
       "      <td>0.267963</td>\n",
       "      <td>9.437241</td>\n",
       "      <td>7.374284</td>\n",
       "      <td>15.446795</td>\n",
       "      <td>7.289246</td>\n",
       "      <td>0.267963</td>\n",
       "      <td>0.282529</td>\n",
       "      <td>0.374879</td>\n",
       "      <td>0.463753</td>\n",
       "      <td>0.452984</td>\n",
       "    </tr>\n",
       "    <tr>\n",
       "      <th>min</th>\n",
       "      <td>1.000000</td>\n",
       "      <td>2.000000</td>\n",
       "      <td>0.000000</td>\n",
       "      <td>-4.208601</td>\n",
       "      <td>-7.959463</td>\n",
       "      <td>-7.113196</td>\n",
       "      <td>-7.971319</td>\n",
       "      <td>-7.113196</td>\n",
       "      <td>0.000000</td>\n",
       "      <td>1.000000</td>\n",
       "      <td>...</td>\n",
       "      <td>-5.481982</td>\n",
       "      <td>0.000000</td>\n",
       "      <td>1.000000</td>\n",
       "      <td>2.000000</td>\n",
       "      <td>1.000000</td>\n",
       "      <td>-5.481982</td>\n",
       "      <td>-4.013603</td>\n",
       "      <td>-4.013603</td>\n",
       "      <td>-3.991484</td>\n",
       "      <td>-4.520327</td>\n",
       "    </tr>\n",
       "    <tr>\n",
       "      <th>25%</th>\n",
       "      <td>192731.500000</td>\n",
       "      <td>140.000000</td>\n",
       "      <td>140.000000</td>\n",
       "      <td>-0.027872</td>\n",
       "      <td>-0.020488</td>\n",
       "      <td>-0.027783</td>\n",
       "      <td>-0.693473</td>\n",
       "      <td>-0.141755</td>\n",
       "      <td>7.000000</td>\n",
       "      <td>4.000000</td>\n",
       "      <td>...</td>\n",
       "      <td>-0.269285</td>\n",
       "      <td>3.000000</td>\n",
       "      <td>3.000000</td>\n",
       "      <td>17.000000</td>\n",
       "      <td>5.000000</td>\n",
       "      <td>-0.269285</td>\n",
       "      <td>-0.300047</td>\n",
       "      <td>-0.386092</td>\n",
       "      <td>-0.473039</td>\n",
       "      <td>-0.557039</td>\n",
       "    </tr>\n",
       "    <tr>\n",
       "      <th>50%</th>\n",
       "      <td>385462.000000</td>\n",
       "      <td>202.000000</td>\n",
       "      <td>202.000000</td>\n",
       "      <td>0.024152</td>\n",
       "      <td>0.220803</td>\n",
       "      <td>0.422011</td>\n",
       "      <td>-0.359345</td>\n",
       "      <td>-0.074300</td>\n",
       "      <td>16.000000</td>\n",
       "      <td>7.000000</td>\n",
       "      <td>...</td>\n",
       "      <td>-0.125602</td>\n",
       "      <td>5.000000</td>\n",
       "      <td>6.000000</td>\n",
       "      <td>25.000000</td>\n",
       "      <td>9.000000</td>\n",
       "      <td>-0.125602</td>\n",
       "      <td>-0.151812</td>\n",
       "      <td>-0.207980</td>\n",
       "      <td>-0.256680</td>\n",
       "      <td>-0.334428</td>\n",
       "    </tr>\n",
       "    <tr>\n",
       "      <th>75%</th>\n",
       "      <td>578192.500000</td>\n",
       "      <td>258.000000</td>\n",
       "      <td>258.000000</td>\n",
       "      <td>0.100098</td>\n",
       "      <td>0.954564</td>\n",
       "      <td>0.962760</td>\n",
       "      <td>-0.030453</td>\n",
       "      <td>-0.029080</td>\n",
       "      <td>26.000000</td>\n",
       "      <td>14.000000</td>\n",
       "      <td>...</td>\n",
       "      <td>-0.032971</td>\n",
       "      <td>11.000000</td>\n",
       "      <td>12.000000</td>\n",
       "      <td>36.000000</td>\n",
       "      <td>16.000000</td>\n",
       "      <td>-0.032971</td>\n",
       "      <td>-0.022679</td>\n",
       "      <td>0.013066</td>\n",
       "      <td>0.042724</td>\n",
       "      <td>-0.070460</td>\n",
       "    </tr>\n",
       "    <tr>\n",
       "      <th>max</th>\n",
       "      <td>770923.000000</td>\n",
       "      <td>2228.000000</td>\n",
       "      <td>10964.000000</td>\n",
       "      <td>10.565904</td>\n",
       "      <td>4.633166</td>\n",
       "      <td>4.598265</td>\n",
       "      <td>4.018918</td>\n",
       "      <td>3.129033</td>\n",
       "      <td>203.000000</td>\n",
       "      <td>150.000000</td>\n",
       "      <td>...</td>\n",
       "      <td>4.033554</td>\n",
       "      <td>260.000000</td>\n",
       "      <td>185.000000</td>\n",
       "      <td>400.000000</td>\n",
       "      <td>177.000000</td>\n",
       "      <td>4.033554</td>\n",
       "      <td>3.585718</td>\n",
       "      <td>4.002332</td>\n",
       "      <td>3.755566</td>\n",
       "      <td>3.575504</td>\n",
       "    </tr>\n",
       "  </tbody>\n",
       "</table>\n",
       "<p>8 rows × 33 columns</p>\n",
       "</div>"
      ],
      "text/plain": [
       "                  id       0_pre-RR      0_post-RR        0_pPeak  \\\n",
       "count  770923.000000  709850.000000  709850.000000  709850.000000   \n",
       "mean   385462.000000     201.009236     201.059607       0.058705   \n",
       "std    222546.445124      79.698682      80.701501       0.189891   \n",
       "min         1.000000       2.000000       0.000000      -4.208601   \n",
       "25%    192731.500000     140.000000     140.000000      -0.027872   \n",
       "50%    385462.000000     202.000000     202.000000       0.024152   \n",
       "75%    578192.500000     258.000000     258.000000       0.100098   \n",
       "max    770923.000000    2228.000000   10964.000000      10.565904   \n",
       "\n",
       "             0_tPeak        0_rPeak        0_sPeak        0_qPeak  \\\n",
       "count  709850.000000  709850.000000  709850.000000  709850.000000   \n",
       "mean        0.438354       0.524657      -0.374096      -0.126095   \n",
       "std         0.655704       0.756126       0.695246       0.276728   \n",
       "min        -7.959463      -7.113196      -7.971319      -7.113196   \n",
       "25%        -0.020488      -0.027783      -0.693473      -0.141755   \n",
       "50%         0.220803       0.422011      -0.359345      -0.074300   \n",
       "75%         0.954564       0.962760      -0.030453      -0.029080   \n",
       "max         4.633166       4.598265       4.018918       3.129033   \n",
       "\n",
       "       0_qrs_interval  0_pq_interval  ...        1_qPeak  1_qrs_interval  \\\n",
       "count   709850.000000  709850.000000  ...  631220.000000   631220.000000   \n",
       "mean        17.876041       9.843125  ...      -0.199521        8.542500   \n",
       "std         13.897318       9.511780  ...       0.267963        9.437241   \n",
       "min          0.000000       1.000000  ...      -5.481982        0.000000   \n",
       "25%          7.000000       4.000000  ...      -0.269285        3.000000   \n",
       "50%         16.000000       7.000000  ...      -0.125602        5.000000   \n",
       "75%         26.000000      14.000000  ...      -0.032971       11.000000   \n",
       "max        203.000000     150.000000  ...       4.033554      260.000000   \n",
       "\n",
       "       1_pq_interval  1_qt_interval  1_st_interval   1_qrs_morph0  \\\n",
       "count  631220.000000  631220.000000  631220.000000  631220.000000   \n",
       "mean        8.444831      27.738696      10.751366      -0.199521   \n",
       "std         7.374284      15.446795       7.289246       0.267963   \n",
       "min         1.000000       2.000000       1.000000      -5.481982   \n",
       "25%         3.000000      17.000000       5.000000      -0.269285   \n",
       "50%         6.000000      25.000000       9.000000      -0.125602   \n",
       "75%        12.000000      36.000000      16.000000      -0.032971   \n",
       "max       185.000000     400.000000     177.000000       4.033554   \n",
       "\n",
       "        1_qrs_morph1   1_qrs_morph2   1_qrs_morph3   1_qrs_morph4  \n",
       "count  631220.000000  631220.000000  631220.000000  631220.000000  \n",
       "mean       -0.207515      -0.215045      -0.231361      -0.355536  \n",
       "std         0.282529       0.374879       0.463753       0.452984  \n",
       "min        -4.013603      -4.013603      -3.991484      -4.520327  \n",
       "25%        -0.300047      -0.386092      -0.473039      -0.557039  \n",
       "50%        -0.151812      -0.207980      -0.256680      -0.334428  \n",
       "75%        -0.022679       0.013066       0.042724      -0.070460  \n",
       "max         3.585718       4.002332       3.755566       3.575504  \n",
       "\n",
       "[8 rows x 33 columns]"
      ]
     },
     "execution_count": 7,
     "metadata": {},
     "output_type": "execute_result"
    }
   ],
   "source": [
    "train_data.describe()"
   ]
  },
  {
   "cell_type": "code",
   "execution_count": 8,
   "id": "9173b82d",
   "metadata": {
    "execution": {
     "iopub.execute_input": "2025-10-17T07:27:33.298807Z",
     "iopub.status.busy": "2025-10-17T07:27:33.298245Z",
     "iopub.status.idle": "2025-10-17T07:27:33.497954Z",
     "shell.execute_reply": "2025-10-17T07:27:33.497045Z"
    },
    "papermill": {
     "duration": 0.209741,
     "end_time": "2025-10-17T07:27:33.499329",
     "exception": false,
     "start_time": "2025-10-17T07:27:33.289588",
     "status": "completed"
    },
    "tags": []
   },
   "outputs": [
    {
     "data": {
      "text/plain": [
       "id                     0\n",
       "record             61073\n",
       "type               61073\n",
       "0_pre-RR           61073\n",
       "0_post-RR          61073\n",
       "0_pPeak            61073\n",
       "0_tPeak            61073\n",
       "0_rPeak            61073\n",
       "0_sPeak            61073\n",
       "0_qPeak            61073\n",
       "0_qrs_interval     61073\n",
       "0_pq_interval      61073\n",
       "0_qt_interval      61073\n",
       "0_st_interval      61073\n",
       "0_qrs_morph0       61073\n",
       "0_qrs_morph1       61073\n",
       "0_qrs_morph2       61073\n",
       "0_qrs_morph3       61073\n",
       "0_qrs_morph4       61073\n",
       "1_pre-RR          139703\n",
       "1_post-RR         139703\n",
       "1_pPeak           139703\n",
       "1_tPeak           139703\n",
       "1_rPeak           139703\n",
       "1_sPeak           139703\n",
       "1_qPeak           139703\n",
       "1_qrs_interval    139703\n",
       "1_pq_interval     139703\n",
       "1_qt_interval     139703\n",
       "1_st_interval     139703\n",
       "1_qrs_morph0      139703\n",
       "1_qrs_morph1      139703\n",
       "1_qrs_morph2      139703\n",
       "1_qrs_morph3      139703\n",
       "1_qrs_morph4      139703\n",
       "dtype: int64"
      ]
     },
     "execution_count": 8,
     "metadata": {},
     "output_type": "execute_result"
    }
   ],
   "source": [
    "train_data.isnull().sum()"
   ]
  },
  {
   "cell_type": "code",
   "execution_count": 9,
   "id": "b2979208",
   "metadata": {
    "execution": {
     "iopub.execute_input": "2025-10-17T07:27:33.516662Z",
     "iopub.status.busy": "2025-10-17T07:27:33.516086Z",
     "iopub.status.idle": "2025-10-17T07:27:33.521766Z",
     "shell.execute_reply": "2025-10-17T07:27:33.520736Z"
    },
    "papermill": {
     "duration": 0.015653,
     "end_time": "2025-10-17T07:27:33.523074",
     "exception": false,
     "start_time": "2025-10-17T07:27:33.507421",
     "status": "completed"
    },
    "tags": []
   },
   "outputs": [
    {
     "data": {
      "text/plain": [
       "((770923, 35), (142675, 34))"
      ]
     },
     "execution_count": 9,
     "metadata": {},
     "output_type": "execute_result"
    }
   ],
   "source": [
    "train_data.shape, test_data.shape"
   ]
  },
  {
   "cell_type": "code",
   "execution_count": 10,
   "id": "5adf98c1",
   "metadata": {
    "execution": {
     "iopub.execute_input": "2025-10-17T07:27:33.540324Z",
     "iopub.status.busy": "2025-10-17T07:27:33.539600Z",
     "iopub.status.idle": "2025-10-17T07:27:33.672737Z",
     "shell.execute_reply": "2025-10-17T07:27:33.671831Z"
    },
    "papermill": {
     "duration": 0.143383,
     "end_time": "2025-10-17T07:27:33.674278",
     "exception": false,
     "start_time": "2025-10-17T07:27:33.530895",
     "status": "completed"
    },
    "tags": []
   },
   "outputs": [
    {
     "data": {
      "text/plain": [
       "(709850, 35)"
      ]
     },
     "execution_count": 10,
     "metadata": {},
     "output_type": "execute_result"
    }
   ],
   "source": [
    "train_data = train_data[~train_data[\"type\"].isnull()]\n",
    "train_data.shape"
   ]
  },
  {
   "cell_type": "code",
   "execution_count": 11,
   "id": "fbfe7514",
   "metadata": {
    "execution": {
     "iopub.execute_input": "2025-10-17T07:27:33.691545Z",
     "iopub.status.busy": "2025-10-17T07:27:33.691210Z",
     "iopub.status.idle": "2025-10-17T07:27:33.740263Z",
     "shell.execute_reply": "2025-10-17T07:27:33.739322Z"
    },
    "papermill": {
     "duration": 0.059548,
     "end_time": "2025-10-17T07:27:33.741882",
     "exception": false,
     "start_time": "2025-10-17T07:27:33.682334",
     "status": "completed"
    },
    "tags": []
   },
   "outputs": [
    {
     "data": {
      "text/plain": [
       "type\n",
       "N       647338\n",
       "VEB      41384\n",
       "SVEB     14821\n",
       "Q         5314\n",
       "F          993\n",
       "Name: count, dtype: int64"
      ]
     },
     "execution_count": 11,
     "metadata": {},
     "output_type": "execute_result"
    }
   ],
   "source": [
    "train_data[\"type\"].value_counts()"
   ]
  },
  {
   "cell_type": "code",
   "execution_count": 12,
   "id": "de70bb23",
   "metadata": {
    "execution": {
     "iopub.execute_input": "2025-10-17T07:27:33.759717Z",
     "iopub.status.busy": "2025-10-17T07:27:33.758921Z",
     "iopub.status.idle": "2025-10-17T07:27:33.855904Z",
     "shell.execute_reply": "2025-10-17T07:27:33.854919Z"
    },
    "papermill": {
     "duration": 0.107518,
     "end_time": "2025-10-17T07:27:33.857699",
     "exception": false,
     "start_time": "2025-10-17T07:27:33.750181",
     "status": "completed"
    },
    "tags": []
   },
   "outputs": [],
   "source": [
    "train_data = train_data.drop([\"id\",\"record\"], axis=1)"
   ]
  },
  {
   "cell_type": "code",
   "execution_count": 13,
   "id": "b707cfd9",
   "metadata": {
    "execution": {
     "iopub.execute_input": "2025-10-17T07:27:33.875443Z",
     "iopub.status.busy": "2025-10-17T07:27:33.874846Z",
     "iopub.status.idle": "2025-10-17T07:27:33.881116Z",
     "shell.execute_reply": "2025-10-17T07:27:33.880167Z"
    },
    "papermill": {
     "duration": 0.016594,
     "end_time": "2025-10-17T07:27:33.882542",
     "exception": false,
     "start_time": "2025-10-17T07:27:33.865948",
     "status": "completed"
    },
    "tags": []
   },
   "outputs": [
    {
     "data": {
      "text/plain": [
       "0"
      ]
     },
     "execution_count": 13,
     "metadata": {},
     "output_type": "execute_result"
    }
   ],
   "source": [
    "mapping_dict = {'F':0, 'N':1, 'Q': 2, 'SVEB': 3, 'VEB': 4}\n",
    "mapping_dict.get('F')"
   ]
  },
  {
   "cell_type": "code",
   "execution_count": 14,
   "id": "c75e9413",
   "metadata": {
    "execution": {
     "iopub.execute_input": "2025-10-17T07:27:33.901145Z",
     "iopub.status.busy": "2025-10-17T07:27:33.900218Z",
     "iopub.status.idle": "2025-10-17T07:27:34.050811Z",
     "shell.execute_reply": "2025-10-17T07:27:34.050096Z"
    },
    "papermill": {
     "duration": 0.161269,
     "end_time": "2025-10-17T07:27:34.052432",
     "exception": false,
     "start_time": "2025-10-17T07:27:33.891163",
     "status": "completed"
    },
    "tags": []
   },
   "outputs": [],
   "source": [
    "X = train_data.drop(\"type\", axis=1)\n",
    "y = train_data[\"type\"].values\n",
    "\n",
    "mapping_dict = {'F':0, 'N':1, 'Q': 2, 'SVEB': 3, 'VEB': 4}\n",
    "y = np.array([mapping_dict.get(labels) for labels in y])"
   ]
  },
  {
   "cell_type": "code",
   "execution_count": 15,
   "id": "ecaef209",
   "metadata": {
    "execution": {
     "iopub.execute_input": "2025-10-17T07:27:34.071024Z",
     "iopub.status.busy": "2025-10-17T07:27:34.070057Z",
     "iopub.status.idle": "2025-10-17T07:27:34.185728Z",
     "shell.execute_reply": "2025-10-17T07:27:34.184837Z"
    },
    "papermill": {
     "duration": 0.126508,
     "end_time": "2025-10-17T07:27:34.187155",
     "exception": false,
     "start_time": "2025-10-17T07:27:34.060647",
     "status": "completed"
    },
    "tags": []
   },
   "outputs": [
    {
     "data": {
      "text/plain": [
       "0_pre-RR               0\n",
       "0_post-RR              0\n",
       "0_pPeak                0\n",
       "0_tPeak                0\n",
       "0_rPeak                0\n",
       "0_sPeak                0\n",
       "0_qPeak                0\n",
       "0_qrs_interval         0\n",
       "0_pq_interval          0\n",
       "0_qt_interval          0\n",
       "0_st_interval          0\n",
       "0_qrs_morph0           0\n",
       "0_qrs_morph1           0\n",
       "0_qrs_morph2           0\n",
       "0_qrs_morph3           0\n",
       "0_qrs_morph4           0\n",
       "1_pre-RR          139703\n",
       "1_post-RR         139703\n",
       "1_pPeak           139703\n",
       "1_tPeak           139703\n",
       "1_rPeak           139703\n",
       "1_sPeak           139703\n",
       "1_qPeak           139703\n",
       "1_qrs_interval    139703\n",
       "1_pq_interval     139703\n",
       "1_qt_interval     139703\n",
       "1_st_interval     139703\n",
       "1_qrs_morph0      139703\n",
       "1_qrs_morph1      139703\n",
       "1_qrs_morph2      139703\n",
       "1_qrs_morph3      139703\n",
       "1_qrs_morph4      139703\n",
       "dtype: int64"
      ]
     },
     "execution_count": 15,
     "metadata": {},
     "output_type": "execute_result"
    }
   ],
   "source": [
    "X.isnull().sum()"
   ]
  },
  {
   "cell_type": "code",
   "execution_count": 16,
   "id": "b44e6f47",
   "metadata": {
    "execution": {
     "iopub.execute_input": "2025-10-17T07:27:34.206197Z",
     "iopub.status.busy": "2025-10-17T07:27:34.205391Z",
     "iopub.status.idle": "2025-10-17T07:27:36.647341Z",
     "shell.execute_reply": "2025-10-17T07:27:36.646445Z"
    },
    "papermill": {
     "duration": 2.452716,
     "end_time": "2025-10-17T07:27:36.648907",
     "exception": false,
     "start_time": "2025-10-17T07:27:34.196191",
     "status": "completed"
    },
    "tags": []
   },
   "outputs": [],
   "source": [
    "#fill the missing values with mean\n",
    "from sklearn.impute import SimpleImputer\n",
    "import numpy as np\n",
    "\n",
    "imp_mean = SimpleImputer(strategy='mean')\n",
    "X = imp_mean.fit_transform(X)"
   ]
  },
  {
   "cell_type": "code",
   "execution_count": 17,
   "id": "ca16df48",
   "metadata": {
    "execution": {
     "iopub.execute_input": "2025-10-17T07:27:36.666869Z",
     "iopub.status.busy": "2025-10-17T07:27:36.666428Z",
     "iopub.status.idle": "2025-10-17T07:27:36.672366Z",
     "shell.execute_reply": "2025-10-17T07:27:36.671336Z"
    },
    "papermill": {
     "duration": 0.016433,
     "end_time": "2025-10-17T07:27:36.673735",
     "exception": false,
     "start_time": "2025-10-17T07:27:36.657302",
     "status": "completed"
    },
    "tags": []
   },
   "outputs": [
    {
     "data": {
      "text/plain": [
       "array([1, 1, 1, ..., 1, 1, 1])"
      ]
     },
     "execution_count": 17,
     "metadata": {},
     "output_type": "execute_result"
    }
   ],
   "source": [
    "y"
   ]
  },
  {
   "cell_type": "code",
   "execution_count": 18,
   "id": "3bcefdf5",
   "metadata": {
    "execution": {
     "iopub.execute_input": "2025-10-17T07:27:36.693539Z",
     "iopub.status.busy": "2025-10-17T07:27:36.693212Z",
     "iopub.status.idle": "2025-10-17T07:27:36.784867Z",
     "shell.execute_reply": "2025-10-17T07:27:36.784085Z"
    },
    "papermill": {
     "duration": 0.103368,
     "end_time": "2025-10-17T07:27:36.786192",
     "exception": false,
     "start_time": "2025-10-17T07:27:36.682824",
     "status": "completed"
    },
    "tags": []
   },
   "outputs": [
    {
     "data": {
      "text/plain": [
       "{0, 1, 2, 3, 4}"
      ]
     },
     "execution_count": 18,
     "metadata": {},
     "output_type": "execute_result"
    }
   ],
   "source": [
    "set(list(y))"
   ]
  },
  {
   "cell_type": "code",
   "execution_count": 19,
   "id": "0b142c7f",
   "metadata": {
    "execution": {
     "iopub.execute_input": "2025-10-17T07:27:36.803862Z",
     "iopub.status.busy": "2025-10-17T07:27:36.803600Z",
     "iopub.status.idle": "2025-10-17T07:27:37.357261Z",
     "shell.execute_reply": "2025-10-17T07:27:37.356442Z"
    },
    "papermill": {
     "duration": 0.564239,
     "end_time": "2025-10-17T07:27:37.358861",
     "exception": false,
     "start_time": "2025-10-17T07:27:36.794622",
     "status": "completed"
    },
    "tags": []
   },
   "outputs": [],
   "source": [
    "#split into train and validation sets with stratified splitting\n",
    "from sklearn.model_selection import train_test_split\n",
    "X_train, X_val, y_train, y_val = train_test_split(X, y, test_size=0.2, random_state=42, stratify=y)"
   ]
  },
  {
   "cell_type": "code",
   "execution_count": 20,
   "id": "7e6bf61f",
   "metadata": {
    "execution": {
     "iopub.execute_input": "2025-10-17T07:27:37.377365Z",
     "iopub.status.busy": "2025-10-17T07:27:37.377092Z",
     "iopub.status.idle": "2025-10-17T07:27:37.757619Z",
     "shell.execute_reply": "2025-10-17T07:27:37.756686Z"
    },
    "papermill": {
     "duration": 0.391646,
     "end_time": "2025-10-17T07:27:37.759357",
     "exception": false,
     "start_time": "2025-10-17T07:27:37.367711",
     "status": "completed"
    },
    "tags": []
   },
   "outputs": [],
   "source": [
    "#standardize the \n",
    "from sklearn.preprocessing import StandardScaler\n",
    "scaler = StandardScaler()\n",
    "X_train = scaler.fit_transform(X_train)\n",
    "X_val = scaler.transform(X_val)"
   ]
  },
  {
   "cell_type": "code",
   "execution_count": 21,
   "id": "7b52b1fa",
   "metadata": {
    "execution": {
     "iopub.execute_input": "2025-10-17T07:27:37.778354Z",
     "iopub.status.busy": "2025-10-17T07:27:37.778051Z",
     "iopub.status.idle": "2025-10-17T07:27:37.783916Z",
     "shell.execute_reply": "2025-10-17T07:27:37.783072Z"
    },
    "papermill": {
     "duration": 0.016981,
     "end_time": "2025-10-17T07:27:37.785302",
     "exception": false,
     "start_time": "2025-10-17T07:27:37.768321",
     "status": "completed"
    },
    "tags": []
   },
   "outputs": [
    {
     "data": {
      "text/plain": [
       "((567880, 32), (567880,), (141970, 32), (141970,))"
      ]
     },
     "execution_count": 21,
     "metadata": {},
     "output_type": "execute_result"
    }
   ],
   "source": [
    "X_train.shape, y_train.shape, X_val.shape, y_val.shape"
   ]
  },
  {
   "cell_type": "code",
   "execution_count": 22,
   "id": "4df00451",
   "metadata": {
    "execution": {
     "iopub.execute_input": "2025-10-17T07:27:37.803848Z",
     "iopub.status.busy": "2025-10-17T07:27:37.803542Z",
     "iopub.status.idle": "2025-10-17T07:27:37.855422Z",
     "shell.execute_reply": "2025-10-17T07:27:37.854511Z"
    },
    "papermill": {
     "duration": 0.06287,
     "end_time": "2025-10-17T07:27:37.857116",
     "exception": false,
     "start_time": "2025-10-17T07:27:37.794246",
     "status": "completed"
    },
    "tags": []
   },
   "outputs": [
    {
     "data": {
      "text/plain": [
       "array([[-0.13883751, -0.16390309,  0.25625729, ..., -0.31147488,\n",
       "        -0.39473789, -0.23255012],\n",
       "       [-0.33946661, -0.39000832,  0.10366609, ..., -0.10060132,\n",
       "        -0.25536224, -0.38058446],\n",
       "       [ 0.86430797,  0.91637745, -0.09002963, ...,  0.65761483,\n",
       "         0.43788704,  0.11233587],\n",
       "       ...,\n",
       "       [ 0.04925227,  0.04964074, -0.3777879 , ...,  0.87682333,\n",
       "         0.6832324 ,  0.06240269],\n",
       "       [ 0.22480272,  1.41883351,  0.41049256, ...,  0.24196368,\n",
       "         0.25488222,  0.63002995],\n",
       "       [-1.19214027, -1.8345695 , -0.82387094, ...,  0.54176287,\n",
       "         0.89380819,  1.89449612]])"
      ]
     },
     "execution_count": 22,
     "metadata": {},
     "output_type": "execute_result"
    }
   ],
   "source": [
    "#prepare test data for prediction\n",
    "test_X = test_data.drop(['id','record'], axis=1).values\n",
    "X_test = scaler.transform(test_X)\n",
    "X_test"
   ]
  },
  {
   "cell_type": "code",
   "execution_count": 23,
   "id": "81b56d7d",
   "metadata": {
    "execution": {
     "iopub.execute_input": "2025-10-17T07:27:37.877961Z",
     "iopub.status.busy": "2025-10-17T07:27:37.877658Z",
     "iopub.status.idle": "2025-10-17T07:27:42.442299Z",
     "shell.execute_reply": "2025-10-17T07:27:42.441486Z"
    },
    "papermill": {
     "duration": 4.575803,
     "end_time": "2025-10-17T07:27:42.443897",
     "exception": false,
     "start_time": "2025-10-17T07:27:37.868094",
     "status": "completed"
    },
    "tags": []
   },
   "outputs": [],
   "source": [
    "#turn to tensors \n",
    "import torch\n",
    "import torch.nn as nn\n",
    "\n",
    "X_train = torch.FloatTensor(X_train).unsqueeze(1)\n",
    "X_val = torch.FloatTensor(X_val).unsqueeze(1)\n",
    "X_test = torch.FloatTensor(X_test).unsqueeze(1)\n",
    "y_train = torch.LongTensor(y_train)\n",
    "y_val = torch.LongTensor(y_val)"
   ]
  },
  {
   "cell_type": "code",
   "execution_count": 24,
   "id": "0111f2c8",
   "metadata": {
    "execution": {
     "iopub.execute_input": "2025-10-17T07:27:42.465069Z",
     "iopub.status.busy": "2025-10-17T07:27:42.464607Z",
     "iopub.status.idle": "2025-10-17T07:27:42.470315Z",
     "shell.execute_reply": "2025-10-17T07:27:42.469547Z"
    },
    "papermill": {
     "duration": 0.016449,
     "end_time": "2025-10-17T07:27:42.471490",
     "exception": false,
     "start_time": "2025-10-17T07:27:42.455041",
     "status": "completed"
    },
    "tags": []
   },
   "outputs": [],
   "source": [
    "#pytorch dataset\n",
    "from torch.utils.data import Dataset, DataLoader\n",
    "\n",
    "class MidtermDataset(Dataset):\n",
    "    def __init__(self, X, y=None): #y=None to address for the test data\n",
    "        self.X = X\n",
    "        self.y = y\n",
    "\n",
    "    def __len__(self):\n",
    "        return len(self.X)\n",
    "\n",
    "    def __getitem__(self, idx):\n",
    "        if self.y is not None:\n",
    "            return self.X[idx], self.y[idx]\n",
    "        return self.X[idx]"
   ]
  },
  {
   "cell_type": "code",
   "execution_count": 25,
   "id": "b3bb485b",
   "metadata": {
    "execution": {
     "iopub.execute_input": "2025-10-17T07:27:42.489916Z",
     "iopub.status.busy": "2025-10-17T07:27:42.489610Z",
     "iopub.status.idle": "2025-10-17T07:27:42.493572Z",
     "shell.execute_reply": "2025-10-17T07:27:42.492946Z"
    },
    "papermill": {
     "duration": 0.014631,
     "end_time": "2025-10-17T07:27:42.494886",
     "exception": false,
     "start_time": "2025-10-17T07:27:42.480255",
     "status": "completed"
    },
    "tags": []
   },
   "outputs": [],
   "source": [
    "#instantiate train and validation dataset\n",
    "train_dataset = MidtermDataset(X_train, y_train)\n",
    "val_dataset = MidtermDataset(X_val, y_val)"
   ]
  },
  {
   "cell_type": "code",
   "execution_count": 26,
   "id": "4da9676a",
   "metadata": {
    "execution": {
     "iopub.execute_input": "2025-10-17T07:27:42.513174Z",
     "iopub.status.busy": "2025-10-17T07:27:42.512865Z",
     "iopub.status.idle": "2025-10-17T07:27:42.517779Z",
     "shell.execute_reply": "2025-10-17T07:27:42.516856Z"
    },
    "papermill": {
     "duration": 0.015883,
     "end_time": "2025-10-17T07:27:42.519305",
     "exception": false,
     "start_time": "2025-10-17T07:27:42.503422",
     "status": "completed"
    },
    "tags": []
   },
   "outputs": [],
   "source": [
    "#create dataloader\n",
    "train_dataloader = DataLoader(train_dataset, batch_size=32, shuffle=True)\n",
    "val_dataloader = DataLoader(val_dataset, batch_size=32, shuffle=False)"
   ]
  },
  {
   "cell_type": "markdown",
   "id": "d2589d28",
   "metadata": {
    "papermill": {
     "duration": 0.008185,
     "end_time": "2025-10-17T07:27:42.536194",
     "exception": false,
     "start_time": "2025-10-17T07:27:42.528009",
     "status": "completed"
    },
    "tags": []
   },
   "source": [
    "# Model"
   ]
  },
  {
   "cell_type": "code",
   "execution_count": 27,
   "id": "cffdabe6",
   "metadata": {
    "execution": {
     "iopub.execute_input": "2025-10-17T07:27:42.554877Z",
     "iopub.status.busy": "2025-10-17T07:27:42.553874Z",
     "iopub.status.idle": "2025-10-17T07:27:42.561018Z",
     "shell.execute_reply": "2025-10-17T07:27:42.560326Z"
    },
    "papermill": {
     "duration": 0.017776,
     "end_time": "2025-10-17T07:27:42.562305",
     "exception": false,
     "start_time": "2025-10-17T07:27:42.544529",
     "status": "completed"
    },
    "tags": []
   },
   "outputs": [],
   "source": [
    "#define model (CNN model)\n",
    "\n",
    "class CNNModel(nn.Module):\n",
    "    def __init__(self, num_features=32, num_classes=5):\n",
    "        super(CNNModel, self).__init__()\n",
    "        self.conv1 = nn.Conv1d(1, 16, kernel_size=5, padding=2)\n",
    "        self.pool = nn.MaxPool1d(2, ceil_mode=True)\n",
    "        self.conv2 = nn.Conv1d(16, 32, kernel_size=3, padding=1)\n",
    "        self.global_avg = nn.AdaptiveAvgPool1d(1)\n",
    "        self.fc1 = nn.Linear(32, 64)\n",
    "        self.fc2 = nn.Linear(64, num_classes)\n",
    "        self.relu = nn.ReLU()\n",
    "        self.dropout = nn.Dropout(0.5)\n",
    "\n",
    "    def forward(self, x):\n",
    "        x = self.pool(self.relu(self.conv1(x)))\n",
    "        x = self.pool(self.relu(self.conv2(x)))\n",
    "        x = self.global_avg(x).squeeze(-1)\n",
    "        x = self.relu(self.fc1(x))\n",
    "        x = self.dropout(x)\n",
    "        x = self.fc2(x)\n",
    "        return x\n",
    "        "
   ]
  },
  {
   "cell_type": "code",
   "execution_count": 28,
   "id": "74ff4104",
   "metadata": {
    "execution": {
     "iopub.execute_input": "2025-10-17T07:27:42.580800Z",
     "iopub.status.busy": "2025-10-17T07:27:42.580506Z",
     "iopub.status.idle": "2025-10-17T07:27:42.597423Z",
     "shell.execute_reply": "2025-10-17T07:27:42.596501Z"
    },
    "papermill": {
     "duration": 0.027984,
     "end_time": "2025-10-17T07:27:42.598926",
     "exception": false,
     "start_time": "2025-10-17T07:27:42.570942",
     "status": "completed"
    },
    "tags": []
   },
   "outputs": [],
   "source": [
    "#instantiate the model\n",
    "torch.manual_seed(42)\n",
    "model = CNNModel()"
   ]
  },
  {
   "cell_type": "code",
   "execution_count": 29,
   "id": "5430ced3",
   "metadata": {
    "execution": {
     "iopub.execute_input": "2025-10-17T07:27:42.617688Z",
     "iopub.status.busy": "2025-10-17T07:27:42.616861Z",
     "iopub.status.idle": "2025-10-17T07:27:42.627831Z",
     "shell.execute_reply": "2025-10-17T07:27:42.627084Z"
    },
    "papermill": {
     "duration": 0.021615,
     "end_time": "2025-10-17T07:27:42.629252",
     "exception": false,
     "start_time": "2025-10-17T07:27:42.607637",
     "status": "completed"
    },
    "tags": []
   },
   "outputs": [],
   "source": [
    "#device (for device agnostic code)\n",
    "device = torch.device('cuda' if torch.cuda.is_available() else 'cpu')\n",
    "#put model to the device\n",
    "model = model.to(device)"
   ]
  },
  {
   "cell_type": "code",
   "execution_count": 30,
   "id": "d6117603",
   "metadata": {
    "execution": {
     "iopub.execute_input": "2025-10-17T07:27:42.648214Z",
     "iopub.status.busy": "2025-10-17T07:27:42.647494Z",
     "iopub.status.idle": "2025-10-17T07:27:42.652022Z",
     "shell.execute_reply": "2025-10-17T07:27:42.651063Z"
    },
    "papermill": {
     "duration": 0.01538,
     "end_time": "2025-10-17T07:27:42.653512",
     "exception": false,
     "start_time": "2025-10-17T07:27:42.638132",
     "status": "completed"
    },
    "tags": []
   },
   "outputs": [],
   "source": [
    "#loss function\n",
    "loss_fn = nn.CrossEntropyLoss()"
   ]
  },
  {
   "cell_type": "code",
   "execution_count": 31,
   "id": "306e25cc",
   "metadata": {
    "execution": {
     "iopub.execute_input": "2025-10-17T07:27:42.672339Z",
     "iopub.status.busy": "2025-10-17T07:27:42.671569Z",
     "iopub.status.idle": "2025-10-17T07:27:48.097928Z",
     "shell.execute_reply": "2025-10-17T07:27:48.096970Z"
    },
    "papermill": {
     "duration": 5.437343,
     "end_time": "2025-10-17T07:27:48.099610",
     "exception": false,
     "start_time": "2025-10-17T07:27:42.662267",
     "status": "completed"
    },
    "tags": []
   },
   "outputs": [],
   "source": [
    "#optimizer\n",
    "optimizer = torch.optim.Adam(model.parameters(), lr=0.001)"
   ]
  },
  {
   "cell_type": "code",
   "execution_count": 32,
   "id": "d014e54f",
   "metadata": {
    "execution": {
     "iopub.execute_input": "2025-10-17T07:27:48.119125Z",
     "iopub.status.busy": "2025-10-17T07:27:48.118638Z",
     "iopub.status.idle": "2025-10-17T07:27:48.123970Z",
     "shell.execute_reply": "2025-10-17T07:27:48.123143Z"
    },
    "papermill": {
     "duration": 0.016694,
     "end_time": "2025-10-17T07:27:48.125282",
     "exception": false,
     "start_time": "2025-10-17T07:27:48.108588",
     "status": "completed"
    },
    "tags": []
   },
   "outputs": [
    {
     "name": "stdout",
     "output_type": "stream",
     "text": [
      "Number of parameters: 4101\n"
     ]
    }
   ],
   "source": [
    "#number of parameters in the model\n",
    "params_num = sum(p.numel() for p in model.parameters())\n",
    "print(f\"Number of parameters: {params_num}\")"
   ]
  },
  {
   "cell_type": "code",
   "execution_count": 33,
   "id": "e884d517",
   "metadata": {
    "execution": {
     "iopub.execute_input": "2025-10-17T07:27:48.144249Z",
     "iopub.status.busy": "2025-10-17T07:27:48.143913Z",
     "iopub.status.idle": "2025-10-17T07:27:48.148579Z",
     "shell.execute_reply": "2025-10-17T07:27:48.147837Z"
    },
    "papermill": {
     "duration": 0.015529,
     "end_time": "2025-10-17T07:27:48.149941",
     "exception": false,
     "start_time": "2025-10-17T07:27:48.134412",
     "status": "completed"
    },
    "tags": []
   },
   "outputs": [],
   "source": [
    "#setup the accuracy function\n",
    "def accuracy_fn(y_true, y_pred):\n",
    "    correct = torch.eq(y_true, y_pred).sum().item()\n",
    "    acc = (correct / len(y_pred)) * 100\n",
    "    return acc"
   ]
  },
  {
   "cell_type": "code",
   "execution_count": 34,
   "id": "cc93326e",
   "metadata": {
    "execution": {
     "iopub.execute_input": "2025-10-17T07:27:48.170738Z",
     "iopub.status.busy": "2025-10-17T07:27:48.170418Z",
     "iopub.status.idle": "2025-10-17T07:39:08.522258Z",
     "shell.execute_reply": "2025-10-17T07:39:08.521401Z"
    },
    "papermill": {
     "duration": 680.374975,
     "end_time": "2025-10-17T07:39:08.533761",
     "exception": false,
     "start_time": "2025-10-17T07:27:48.158786",
     "status": "completed"
    },
    "tags": []
   },
   "outputs": [
    {
     "data": {
      "application/vnd.jupyter.widget-view+json": {
       "model_id": "f786567ec9c74068ae3ff860fa0b2c31",
       "version_major": 2,
       "version_minor": 0
      },
      "text/plain": [
       "  0%|          | 0/10 [00:00<?, ?it/s]"
      ]
     },
     "metadata": {},
     "output_type": "display_data"
    },
    {
     "name": "stderr",
     "output_type": "stream",
     "text": [
      "/usr/local/lib/python3.11/dist-packages/sklearn/metrics/_classification.py:1344: UndefinedMetricWarning: Precision and F-score are ill-defined and being set to 0.0 in labels with no predicted samples. Use `zero_division` parameter to control this behavior.\n",
      "  _warn_prf(average, modifier, msg_start, len(result))\n"
     ]
    },
    {
     "name": "stdout",
     "output_type": "stream",
     "text": [
      "Epoch: 0 \n",
      "Train loss: 0.19130 | Train acc: 94.74\n",
      " Val loss: 0.12526 | Val acc: 95.98 | Val weighted precision: 95.4486 | Val weighted recall: 95.9759\n",
      "\n"
     ]
    },
    {
     "name": "stderr",
     "output_type": "stream",
     "text": [
      "/usr/local/lib/python3.11/dist-packages/sklearn/metrics/_classification.py:1344: UndefinedMetricWarning: Precision and F-score are ill-defined and being set to 0.0 in labels with no predicted samples. Use `zero_division` parameter to control this behavior.\n",
      "  _warn_prf(average, modifier, msg_start, len(result))\n"
     ]
    },
    {
     "name": "stdout",
     "output_type": "stream",
     "text": [
      "Epoch: 1 \n",
      "Train loss: 0.13051 | Train acc: 96.05\n",
      " Val loss: 0.12746 | Val acc: 96.30 | Val weighted precision: 95.7446 | Val weighted recall: 96.3020\n",
      "\n"
     ]
    },
    {
     "name": "stderr",
     "output_type": "stream",
     "text": [
      "/usr/local/lib/python3.11/dist-packages/sklearn/metrics/_classification.py:1344: UndefinedMetricWarning: Precision and F-score are ill-defined and being set to 0.0 in labels with no predicted samples. Use `zero_division` parameter to control this behavior.\n",
      "  _warn_prf(average, modifier, msg_start, len(result))\n"
     ]
    },
    {
     "name": "stdout",
     "output_type": "stream",
     "text": [
      "Epoch: 2 \n",
      "Train loss: 0.11626 | Train acc: 96.47\n",
      " Val loss: 0.09586 | Val acc: 96.99 | Val weighted precision: 96.6727 | Val weighted recall: 96.9895\n",
      "\n"
     ]
    },
    {
     "name": "stderr",
     "output_type": "stream",
     "text": [
      "/usr/local/lib/python3.11/dist-packages/sklearn/metrics/_classification.py:1344: UndefinedMetricWarning: Precision and F-score are ill-defined and being set to 0.0 in labels with no predicted samples. Use `zero_division` parameter to control this behavior.\n",
      "  _warn_prf(average, modifier, msg_start, len(result))\n"
     ]
    },
    {
     "name": "stdout",
     "output_type": "stream",
     "text": [
      "Epoch: 3 \n",
      "Train loss: 0.10854 | Train acc: 96.70\n",
      " Val loss: 0.09366 | Val acc: 97.08 | Val weighted precision: 96.8243 | Val weighted recall: 97.0747\n",
      "\n",
      "Epoch: 4 \n",
      "Train loss: 0.10435 | Train acc: 96.82\n",
      " Val loss: 0.08786 | Val acc: 97.26 | Val weighted precision: 97.1521 | Val weighted recall: 97.2558\n",
      "\n",
      "Epoch: 5 \n",
      "Train loss: 0.10022 | Train acc: 96.94\n",
      " Val loss: 0.08985 | Val acc: 97.22 | Val weighted precision: 97.0419 | Val weighted recall: 97.2149\n",
      "\n",
      "Epoch: 6 \n",
      "Train loss: 0.09702 | Train acc: 97.04\n",
      " Val loss: 0.08724 | Val acc: 97.24 | Val weighted precision: 97.0160 | Val weighted recall: 97.2438\n",
      "\n",
      "Epoch: 7 \n",
      "Train loss: 0.09558 | Train acc: 97.09\n",
      " Val loss: 0.08640 | Val acc: 97.35 | Val weighted precision: 97.2476 | Val weighted recall: 97.3473\n",
      "\n",
      "Epoch: 8 \n",
      "Train loss: 0.09370 | Train acc: 97.16\n",
      " Val loss: 0.07941 | Val acc: 97.49 | Val weighted precision: 97.3333 | Val weighted recall: 97.4910\n",
      "\n",
      "Epoch: 9 \n",
      "Train loss: 0.09193 | Train acc: 97.21\n",
      " Val loss: 0.09042 | Val acc: 97.28 | Val weighted precision: 97.0871 | Val weighted recall: 97.2818\n",
      "\n",
      "Total time taken for training and evaluations: 680.1982099790002 seconds\n"
     ]
    }
   ],
   "source": [
    "#Training and evaluations\n",
    "from sklearn.metrics import accuracy_score, precision_recall_fscore_support\n",
    "from timeit import default_timer as timer\n",
    "from tqdm.auto import tqdm\n",
    "\n",
    "#for replication of the code\n",
    "torch.manual_seed(42)\n",
    "\n",
    "#start timer for our training loop\n",
    "start = timer()\n",
    "\n",
    "#define number of epochs\n",
    "num_epochs = 10\n",
    "\n",
    "#track the losses and accuracies\n",
    "train_loss = []\n",
    "eval_loss = []\n",
    "train_acc = []\n",
    "eval_acc = []\n",
    "\n",
    "for epoch in tqdm(range(num_epochs)):\n",
    "    #set model to training mode\n",
    "    model.train()\n",
    "\n",
    "    training_loss = 0\n",
    "    training_acc = 0\n",
    "\n",
    "    #loop through each batch for training\n",
    "    for batch, (X, y) in enumerate(train_dataloader):\n",
    "        #put data to device\n",
    "        X, y = X.to(device), y.to(device)\n",
    "\n",
    "        #zero the gradients from last batch\n",
    "        optimizer.zero_grad()\n",
    "\n",
    "        #forward pass\n",
    "        y_pred = model(X)\n",
    "\n",
    "        #calculate loss\n",
    "        loss = loss_fn(y_pred, y)\n",
    "\n",
    "        #calculate gradients(backward pass)\n",
    "        loss.backward()\n",
    "\n",
    "        #update the parameters\n",
    "        optimizer.step()\n",
    "\n",
    "        training_loss += loss.item()\n",
    "\n",
    "        #calculate training accuracy\n",
    "        training_acc += accuracy_fn(y_true=y, y_pred=y_pred.argmax(dim=1))\n",
    "\n",
    "    training_loss /= len(train_dataloader)\n",
    "    train_loss.append(training_loss)\n",
    "\n",
    "    training_acc /= len(train_dataloader)\n",
    "    train_acc.append(training_acc)\n",
    "\n",
    "    # evaluation\n",
    "    evaluation_loss, evaluation_acc = 0, 0\n",
    "    all_val_preds = []\n",
    "    all_val_targets = []\n",
    "\n",
    "    #set model to evaluation mode\n",
    "    model.eval()\n",
    "\n",
    "    with torch.inference_mode():\n",
    "        for X, y in val_dataloader:\n",
    "            #put data to device\n",
    "            X, y = X.to(device), y.to(device)\n",
    "\n",
    "            #Forward pass\n",
    "            test_pred = model(X)\n",
    "\n",
    "            #test loss\n",
    "            evaluation_loss += loss_fn(test_pred, y).item() # accumulatively add up the loss per epoch\n",
    "\n",
    "            #test accuracy\n",
    "            evaluation_acc += accuracy_fn(y_true=y, y_pred=test_pred.argmax(dim=1))\n",
    "\n",
    "            # Collect predictions and targets for precision/recall\n",
    "            _, preds = torch.max(test_pred, 1)\n",
    "            all_val_preds.extend(preds.cpu().numpy())\n",
    "            all_val_targets.extend(y.cpu().numpy())\n",
    "\n",
    "        evaluation_loss /= len(val_dataloader)\n",
    "        eval_loss.append(evaluation_loss)\n",
    "\n",
    "        evaluation_acc /= len(val_dataloader)\n",
    "        eval_acc.append(evaluation_acc)\n",
    "\n",
    "        # Compute weighted precision and recall\n",
    "        weighted_precision, weighted_recall, _, _ = precision_recall_fscore_support(all_val_targets, all_val_preds, average='weighted')\n",
    "\n",
    "    ## Print out what's happening\n",
    "    print(f\"Epoch: {epoch} \\nTrain loss: {training_loss:.5f} | Train acc: {training_acc:.2f}\\n Val loss: {evaluation_loss:.5f} | Val acc: {evaluation_acc:.2f} | Val weighted precision: {weighted_precision*100:.4f} | Val weighted recall: {weighted_recall*100:.4f}\\n\")\n",
    "\n",
    "\n",
    "end = timer()\n",
    "\n",
    "#print time taken for training and evaluation\n",
    "total_time_taken = end-start\n",
    "print(f'Total time taken for training and evaluations: {total_time_taken} seconds')"
   ]
  },
  {
   "cell_type": "code",
   "execution_count": 35,
   "id": "0246f76b",
   "metadata": {
    "execution": {
     "iopub.execute_input": "2025-10-17T07:39:08.554672Z",
     "iopub.status.busy": "2025-10-17T07:39:08.553857Z",
     "iopub.status.idle": "2025-10-17T07:39:08.832350Z",
     "shell.execute_reply": "2025-10-17T07:39:08.831533Z"
    },
    "papermill": {
     "duration": 0.290486,
     "end_time": "2025-10-17T07:39:08.833885",
     "exception": false,
     "start_time": "2025-10-17T07:39:08.543399",
     "status": "completed"
    },
    "tags": []
   },
   "outputs": [
    {
     "data": {
      "image/png": "[encoded data removed]",
      "text/plain": [
       "<Figure size 640x480 with 1 Axes>"
      ]
     },
     "metadata": {},
     "output_type": "display_data"
    }
   ],
   "source": [
    "import matplotlib.pyplot as plt\n",
    "def plot_loss_curve(train_losses_list, validation_losses_list):\n",
    "    # Plot\n",
    "    plt.figure()\n",
    "    plt.plot(train_losses_list, label='Training Set')\n",
    "    plt.plot(validation_losses_list, label='Validation Set')\n",
    "    plt.title('Loss Curve')\n",
    "    plt.xlabel('Epochs')\n",
    "    plt.ylabel('Loss')\n",
    "    plt.legend()\n",
    "\n",
    "plot_loss_curve(train_loss, eval_loss)"
   ]
  },
  {
   "cell_type": "code",
   "execution_count": 36,
   "id": "f22fe700",
   "metadata": {
    "execution": {
     "iopub.execute_input": "2025-10-17T07:39:08.855715Z",
     "iopub.status.busy": "2025-10-17T07:39:08.854882Z",
     "iopub.status.idle": "2025-10-17T07:39:09.060521Z",
     "shell.execute_reply": "2025-10-17T07:39:09.059611Z"
    },
    "papermill": {
     "duration": 0.218015,
     "end_time": "2025-10-17T07:39:09.062090",
     "exception": false,
     "start_time": "2025-10-17T07:39:08.844075",
     "status": "completed"
    },
    "tags": []
   },
   "outputs": [
    {
     "data": {
      "image/png": "[encoded data removed]",
      "text/plain": [
       "<Figure size 640x480 with 1 Axes>"
      ]
     },
     "metadata": {},
     "output_type": "display_data"
    }
   ],
   "source": [
    "import matplotlib.pyplot as plt\n",
    "def plot_loss_curve(train_acc_list, validation_acc_list):\n",
    "    # Plot\n",
    "    plt.figure()\n",
    "    plt.plot(train_acc_list, label='Training Set')\n",
    "    plt.plot(validation_acc_list, label='Validation Set')\n",
    "    plt.title('Accuracy Curve')\n",
    "    plt.xlabel('Epochs')\n",
    "    plt.ylabel('Accuracy')\n",
    "    plt.legend()\n",
    "\n",
    "plot_loss_curve(train_acc, eval_acc)"
   ]
  },
  {
   "cell_type": "code",
   "execution_count": 37,
   "id": "58c9bd7f",
   "metadata": {
    "execution": {
     "iopub.execute_input": "2025-10-17T07:39:09.085610Z",
     "iopub.status.busy": "2025-10-17T07:39:09.084663Z",
     "iopub.status.idle": "2025-10-17T07:39:09.091585Z",
     "shell.execute_reply": "2025-10-17T07:39:09.090785Z"
    },
    "papermill": {
     "duration": 0.019978,
     "end_time": "2025-10-17T07:39:09.093136",
     "exception": false,
     "start_time": "2025-10-17T07:39:09.073158",
     "status": "completed"
    },
    "tags": []
   },
   "outputs": [],
   "source": [
    "#save the model\n",
    "torch.save(obj=model.state_dict(), f=\"model.pth\")"
   ]
  },
  {
   "cell_type": "code",
   "execution_count": 38,
   "id": "1887fcd5",
   "metadata": {
    "execution": {
     "iopub.execute_input": "2025-10-17T07:39:09.119207Z",
     "iopub.status.busy": "2025-10-17T07:39:09.118878Z",
     "iopub.status.idle": "2025-10-17T07:39:09.128321Z",
     "shell.execute_reply": "2025-10-17T07:39:09.127535Z"
    },
    "papermill": {
     "duration": 0.023671,
     "end_time": "2025-10-17T07:39:09.129691",
     "exception": false,
     "start_time": "2025-10-17T07:39:09.106020",
     "status": "completed"
    },
    "tags": []
   },
   "outputs": [],
   "source": [
    "import json\n",
    "def estimate_flops(model, input_shape):\n",
    "    \"\"\"\n",
    "    Estimate FLOPs for Linear, Conv1d, and Conv2d layers only.\n",
    "    Args:\n",
    "        model (nn.Module): PyTorch model\n",
    "        input_shape (tuple): shape of one input sample, e.g., (1, 3, 224, 224) for 2D or (1, 1, 32) for 1D\n",
    "    Returns:\n",
    "        total_flops (int)\n",
    "    \"\"\"\n",
    "    flops = 0\n",
    "\n",
    "    def count_layer(module, input, output):\n",
    "        nonlocal flops\n",
    "        if isinstance(module, nn.Conv1d):\n",
    "            out_l = output.shape[2]\n",
    "            kernel_ops = module.kernel_size[0]\n",
    "            flops += kernel_ops * module.in_channels * module.out_channels * out_l\n",
    "        elif isinstance(module, nn.Conv2d):\n",
    "            out_h, out_w = output.shape[2:]\n",
    "            kernel_ops = module.kernel_size[0] * module.kernel_size[1]\n",
    "            flops += kernel_ops * module.in_channels * module.out_channels * out_h * out_w\n",
    "        elif isinstance(module, nn.Linear):\n",
    "            flops += module.in_features * module.out_features\n",
    "\n",
    "    hooks = []\n",
    "    for layer in model.modules():\n",
    "        if isinstance(layer, (nn.Conv1d, nn.Conv2d, nn.Linear)):\n",
    "            hooks.append(layer.register_forward_hook(count_layer))\n",
    "\n",
    "    dummy = torch.randn(input_shape).to(device)\n",
    "    with torch.no_grad():\n",
    "        model(dummy)\n",
    "\n",
    "    for h in hooks:\n",
    "        h.remove()\n",
    "\n",
    "    return flops\n",
    "\n",
    "\n",
    "def save_model_stats(model, input_dim, save_path=\"model_stats.json\"):\n",
    "    \"\"\"\n",
    "    Save parameter count and estimated FLOPs to JSON (no thop needed).\n",
    "    Args:\n",
    "        model (nn.Module): PyTorch model\n",
    "        input_dim (int or tuple): Input feature dimension or shape\n",
    "        save_path (str): Output JSON path\n",
    "    \"\"\"\n",
    "    # Create dummy input shape\n",
    "    if isinstance(input_dim, int):\n",
    "        input_shape = (1, 1, input_dim)  # Assume 1D for int (batch, channels, length)\n",
    "    else:\n",
    "        input_shape = (1, *input_dim)\n",
    "\n",
    "    # Count parameters\n",
    "    total_params = sum(p.numel() for p in model.parameters())\n",
    "\n",
    "    # Estimate FLOPs\n",
    "    flops = estimate_flops(model, input_shape)\n",
    "\n",
    "    # Format into M (millions)\n",
    "    stats = {\n",
    "        \"flops\": f\"{flops/1e6:.3f}M\",\n",
    "        \"num_parameters\": f\"{total_params/1e6:.3f}M\"\n",
    "    }\n",
    "\n",
    "    with open(save_path, 'w') as f:\n",
    "        json.dump(stats, f)\n",
    "\n",
    "    return stats"
   ]
  },
  {
   "cell_type": "code",
   "execution_count": 39,
   "id": "4c3bdf8e",
   "metadata": {
    "execution": {
     "iopub.execute_input": "2025-10-17T07:39:09.151931Z",
     "iopub.status.busy": "2025-10-17T07:39:09.151632Z",
     "iopub.status.idle": "2025-10-17T07:39:13.449012Z",
     "shell.execute_reply": "2025-10-17T07:39:13.448016Z"
    },
    "papermill": {
     "duration": 4.310441,
     "end_time": "2025-10-17T07:39:13.450835",
     "exception": false,
     "start_time": "2025-10-17T07:39:09.140394",
     "status": "completed"
    },
    "tags": []
   },
   "outputs": [],
   "source": [
    "#predict on the test set\n",
    "model.eval()\n",
    "\n",
    "#dataset and dataloader\n",
    "test_dataset = MidtermDataset(X_test)\n",
    "test_loader = DataLoader(test_dataset, batch_size=32, shuffle=False)\n",
    "\n",
    "predictions = []\n",
    "with torch.inference_mode():\n",
    "    for inputs in test_loader:\n",
    "        inputs = inputs.to(device)\n",
    "        outputs = model(inputs)\n",
    "        _, predicted = torch.max(outputs, 1)\n",
    "        predictions.extend(predicted.cpu().numpy())"
   ]
  },
  {
   "cell_type": "code",
   "execution_count": 40,
   "id": "00e9b878",
   "metadata": {
    "execution": {
     "iopub.execute_input": "2025-10-17T07:39:13.476670Z",
     "iopub.status.busy": "2025-10-17T07:39:13.476210Z",
     "iopub.status.idle": "2025-10-17T07:39:13.763065Z",
     "shell.execute_reply": "2025-10-17T07:39:13.762060Z"
    },
    "papermill": {
     "duration": 0.300188,
     "end_time": "2025-10-17T07:39:13.764766",
     "exception": false,
     "start_time": "2025-10-17T07:39:13.464578",
     "status": "completed"
    },
    "tags": []
   },
   "outputs": [],
   "source": [
    "# saving submission file\n",
    "stats = save_model_stats(model, input_dim=X_train.shape[1], save_path=\"best_model_info.json\")\n",
    "preds = pd.DataFrame({\n",
    "    \"id\": test_data['id'],\n",
    "    \"preds_res\": predictions,\n",
    "    \"model_info\": json.dumps(stats)\n",
    "})\n"
   ]
  },
  {
   "cell_type": "code",
   "execution_count": 41,
   "id": "9ef34131",
   "metadata": {
    "execution": {
     "iopub.execute_input": "2025-10-17T07:39:13.788807Z",
     "iopub.status.busy": "2025-10-17T07:39:13.788501Z",
     "iopub.status.idle": "2025-10-17T07:39:14.125625Z",
     "shell.execute_reply": "2025-10-17T07:39:14.124609Z"
    },
    "papermill": {
     "duration": 0.350909,
     "end_time": "2025-10-17T07:39:14.127330",
     "exception": false,
     "start_time": "2025-10-17T07:39:13.776421",
     "status": "completed"
    },
    "tags": []
   },
   "outputs": [],
   "source": [
    "preds.to_csv(\"submission.csv\", index=False)"
   ]
  },
  {
   "cell_type": "code",
   "execution_count": null,
   "id": "8ad8939d",
   "metadata": {
    "papermill": {
     "duration": 0.010747,
     "end_time": "2025-10-17T07:39:14.148696",
     "exception": false,
     "start_time": "2025-10-17T07:39:14.137949",
     "status": "completed"
    },
    "tags": []
   },
   "outputs": [],
   "source": []
  },
  {
   "cell_type": "code",
   "execution_count": null,
   "id": "9eca99d9",
   "metadata": {
    "papermill": {
     "duration": 0.010456,
     "end_time": "2025-10-17T07:39:14.169470",
     "exception": false,
     "start_time": "2025-10-17T07:39:14.159014",
     "status": "completed"
    },
    "tags": []
   },
   "outputs": [],
   "source": []
  },
  {
   "cell_type": "code",
   "execution_count": null,
   "id": "1dfca09d",
   "metadata": {
    "papermill": {
     "duration": 0.010166,
     "end_time": "2025-10-17T07:39:14.190298",
     "exception": false,
     "start_time": "2025-10-17T07:39:14.180132",
     "status": "completed"
    },
    "tags": []
   },
   "outputs": [],
   "source": []
  }
 ],
 "metadata": {
  "kaggle": {
   "accelerator": "none",
   "dataSources": [
    {
     "databundleVersionId": 14018857,
     "sourceId": 117287,
     "sourceType": "competition"
    }
   ],
   "dockerImageVersionId": 31153,
   "isGpuEnabled": false,
   "isInternetEnabled": false,
   "language": "python",
   "sourceType": "notebook"
  },
  "kernelspec": {
   "display_name": "Python 3",
   "language": "python",
   "name": "python3"
  },
  "language_info": {
   "codemirror_mode": {
    "name": "ipython",
    "version": 3
   },
   "file_extension": ".py",
   "mimetype": "text/x-python",
   "name": "python",
   "nbconvert_exporter": "python",
   "pygments_lexer": "ipython3",
   "version": "3.11.13"
  },
  "papermill": {
   "default_parameters": {},
   "duration": 720.413036,
   "end_time": "2025-10-17T07:39:17.109397",
   "environment_variables": {},
   "exception": null,
   "input_path": "__notebook__.ipynb",
   "output_path": "__notebook__.ipynb",
   "parameters": {},
   "start_time": "2025-10-17T07:27:16.696361",
   "version": "2.6.0"
  },
  "widgets": {
   "application/vnd.jupyter.widget-state+json": {
    "state": {
     "126ac3a5523a4d558fd28bafe4d3ba1c": {
      "model_module": "@jupyter-widgets/controls",
      "model_module_version": "2.0.0",
      "model_name": "HTMLStyleModel",
      "state": {
       "_model_module": "@jupyter-widgets/controls",
       "_model_module_version": "2.0.0",
       "_model_name": "HTMLStyleModel",
       "_view_count": null,
       "_view_module": "@jupyter-widgets/base",
       "_view_module_version": "2.0.0",
       "_view_name": "StyleView",
       "background": null,
       "description_width": "",
       "font_size": null,
       "text_color": null
      }
     },
     "1a283ad85e054a63ba7dc19248681080": {
      "model_module": "@jupyter-widgets/base",
      "model_module_version": "2.0.0",
      "model_name": "LayoutModel",
      "state": {
       "_model_module": "@jupyter-widgets/base",
       "_model_module_version": "2.0.0",
       "_model_name": "LayoutModel",
       "_view_count": null,
       "_view_module": "@jupyter-widgets/base",
       "_view_module_version": "2.0.0",
       "_view_name": "LayoutView",
       "align_content": null,
       "align_items": null,
       "align_self": null,
       "border_bottom": null,
       "border_left": null,
       "border_right": null,
       "border_top": null,
       "bottom": null,
       "display": null,
       "flex": null,
       "flex_flow": null,
       "grid_area": null,
       "grid_auto_columns": null,
       "grid_auto_flow": null,
       "grid_auto_rows": null,
       "grid_column": null,
       "grid_gap": null,
       "grid_row": null,
       "grid_template_areas": null,
       "grid_template_columns": null,
       "grid_template_rows": null,
       "height": null,
       "justify_content": null,
       "justify_items": null,
       "left": null,
       "margin": null,
       "max_height": null,
       "max_width": null,
       "min_height": null,
       "min_width": null,
       "object_fit": null,
       "object_position": null,
       "order": null,
       "overflow": null,
       "padding": null,
       "right": null,
       "top": null,
       "visibility": null,
       "width": null
      }
     },
     "2cba35d68ab44e56850321c35040c77e": {
      "model_module": "@jupyter-widgets/controls",
      "model_module_version": "2.0.0",
      "model_name": "HTMLModel",
      "state": {
       "_dom_classes": [],
       "_model_module": "@jupyter-widgets/controls",
       "_model_module_version": "2.0.0",
       "_model_name": "HTMLModel",
       "_view_count": null,
       "_view_module": "@jupyter-widgets/controls",
       "_view_module_version": "2.0.0",
       "_view_name": "HTMLView",
       "description": "",
       "description_allow_html": false,
       "layout": "IPY_MODEL_3856719d6fac4df8af86beff8a668917",
       "placeholder": "​",
       "style": "IPY_MODEL_5cc7acdbe41c4f4aae7228fdfcfdb91e",
       "tabbable": null,
       "tooltip": null,
       "value": "100%"
      }
     },
     "3856719d6fac4df8af86beff8a668917": {
      "model_module": "@jupyter-widgets/base",
      "model_module_version": "2.0.0",
      "model_name": "LayoutModel",
      "state": {
       "_model_module": "@jupyter-widgets/base",
       "_model_module_version": "2.0.0",
       "_model_name": "LayoutModel",
       "_view_count": null,
       "_view_module": "@jupyter-widgets/base",
       "_view_module_version": "2.0.0",
       "_view_name": "LayoutView",
       "align_content": null,
       "align_items": null,
       "align_self": null,
       "border_bottom": null,
       "border_left": null,
       "border_right": null,
       "border_top": null,
       "bottom": null,
       "display": null,
       "flex": null,
       "flex_flow": null,
       "grid_area": null,
       "grid_auto_columns": null,
       "grid_auto_flow": null,
       "grid_auto_rows": null,
       "grid_column": null,
       "grid_gap": null,
       "grid_row": null,
       "grid_template_areas": null,
       "grid_template_columns": null,
       "grid_template_rows": null,
       "height": null,
       "justify_content": null,
       "justify_items": null,
       "left": null,
       "margin": null,
       "max_height": null,
       "max_width": null,
       "min_height": null,
       "min_width": null,
       "object_fit": null,
       "object_position": null,
       "order": null,
       "overflow": null,
       "padding": null,
       "right": null,
       "top": null,
       "visibility": null,
       "width": null
      }
     },
     "43800cb294b24a7192b79c2a8a7b6aed": {
      "model_module": "@jupyter-widgets/controls",
      "model_module_version": "2.0.0",
      "model_name": "FloatProgressModel",
      "state": {
       "_dom_classes": [],
       "_model_module": "@jupyter-widgets/controls",
       "_model_module_version": "2.0.0",
       "_model_name": "FloatProgressModel",
       "_view_count": null,
       "_view_module": "@jupyter-widgets/controls",
       "_view_module_version": "2.0.0",
       "_view_name": "ProgressView",
       "bar_style": "success",
       "description": "",
       "description_allow_html": false,
       "layout": "IPY_MODEL_515a177e72bf41e5a85c723e903ba8a1",
       "max": 10.0,
       "min": 0.0,
       "orientation": "horizontal",
       "style": "IPY_MODEL_5cba81f68c9947108f4a5f0c05a5fb56",
       "tabbable": null,
       "tooltip": null,
       "value": 10.0
      }
     },
     "4efaea2fbeb649ee89490ea91b72421e": {
      "model_module": "@jupyter-widgets/base",
      "model_module_version": "2.0.0",
      "model_name": "LayoutModel",
      "state": {
       "_model_module": "@jupyter-widgets/base",
       "_model_module_version": "2.0.0",
       "_model_name": "LayoutModel",
       "_view_count": null,
       "_view_module": "@jupyter-widgets/base",
       "_view_module_version": "2.0.0",
       "_view_name": "LayoutView",
       "align_content": null,
       "align_items": null,
       "align_self": null,
       "border_bottom": null,
       "border_left": null,
       "border_right": null,
       "border_top": null,
       "bottom": null,
       "display": null,
       "flex": null,
       "flex_flow": null,
       "grid_area": null,
       "grid_auto_columns": null,
       "grid_auto_flow": null,
       "grid_auto_rows": null,
       "grid_column": null,
       "grid_gap": null,
       "grid_row": null,
       "grid_template_areas": null,
       "grid_template_columns": null,
       "grid_template_rows": null,
       "height": null,
       "justify_content": null,
       "justify_items": null,
       "left": null,
       "margin": null,
       "max_height": null,
       "max_width": null,
       "min_height": null,
       "min_width": null,
       "object_fit": null,
       "object_position": null,
       "order": null,
       "overflow": null,
       "padding": null,
       "right": null,
       "top": null,
       "visibility": null,
       "width": null
      }
     },
     "515a177e72bf41e5a85c723e903ba8a1": {
      "model_module": "@jupyter-widgets/base",
      "model_module_version": "2.0.0",
      "model_name": "LayoutModel",
      "state": {
       "_model_module": "@jupyter-widgets/base",
       "_model_module_version": "2.0.0",
       "_model_name": "LayoutModel",
       "_view_count": null,
       "_view_module": "@jupyter-widgets/base",
       "_view_module_version": "2.0.0",
       "_view_name": "LayoutView",
       "align_content": null,
       "align_items": null,
       "align_self": null,
       "border_bottom": null,
       "border_left": null,
       "border_right": null,
       "border_top": null,
       "bottom": null,
       "display": null,
       "flex": null,
       "flex_flow": null,
       "grid_area": null,
       "grid_auto_columns": null,
       "grid_auto_flow": null,
       "grid_auto_rows": null,
       "grid_column": null,
       "grid_gap": null,
       "grid_row": null,
       "grid_template_areas": null,
       "grid_template_columns": null,
       "grid_template_rows": null,
       "height": null,
       "justify_content": null,
       "justify_items": null,
       "left": null,
       "margin": null,
       "max_height": null,
       "max_width": null,
       "min_height": null,
       "min_width": null,
       "object_fit": null,
       "object_position": null,
       "order": null,
       "overflow": null,
       "padding": null,
       "right": null,
       "top": null,
       "visibility": null,
       "width": null
      }
     },
     "5cba81f68c9947108f4a5f0c05a5fb56": {
      "model_module": "@jupyter-widgets/controls",
      "model_module_version": "2.0.0",
      "model_name": "ProgressStyleModel",
      "state": {
       "_model_module": "@jupyter-widgets/controls",
       "_model_module_version": "2.0.0",
       "_model_name": "ProgressStyleModel",
       "_view_count": null,
       "_view_module": "@jupyter-widgets/base",
       "_view_module_version": "2.0.0",
       "_view_name": "StyleView",
       "bar_color": null,
       "description_width": ""
      }
     },
     "5cc7acdbe41c4f4aae7228fdfcfdb91e": {
      "model_module": "@jupyter-widgets/controls",
      "model_module_version": "2.0.0",
      "model_name": "HTMLStyleModel",
      "state": {
       "_model_module": "@jupyter-widgets/controls",
       "_model_module_version": "2.0.0",
       "_model_name": "HTMLStyleModel",
       "_view_count": null,
       "_view_module": "@jupyter-widgets/base",
       "_view_module_version": "2.0.0",
       "_view_name": "StyleView",
       "background": null,
       "description_width": "",
       "font_size": null,
       "text_color": null
      }
     },
     "77794abfd07641b1b3b4dff7a3f6fd55": {
      "model_module": "@jupyter-widgets/controls",
      "model_module_version": "2.0.0",
      "model_name": "HTMLModel",
      "state": {
       "_dom_classes": [],
       "_model_module": "@jupyter-widgets/controls",
       "_model_module_version": "2.0.0",
       "_model_name": "HTMLModel",
       "_view_count": null,
       "_view_module": "@jupyter-widgets/controls",
       "_view_module_version": "2.0.0",
       "_view_name": "HTMLView",
       "description": "",
       "description_allow_html": false,
       "layout": "IPY_MODEL_4efaea2fbeb649ee89490ea91b72421e",
       "placeholder": "​",
       "style": "IPY_MODEL_126ac3a5523a4d558fd28bafe4d3ba1c",
       "tabbable": null,
       "tooltip": null,
       "value": " 10/10 [11:20&lt;00:00, 67.89s/it]"
      }
     },
     "f786567ec9c74068ae3ff860fa0b2c31": {
      "model_module": "@jupyter-widgets/controls",
      "model_module_version": "2.0.0",
      "model_name": "HBoxModel",
      "state": {
       "_dom_classes": [],
       "_model_module": "@jupyter-widgets/controls",
       "_model_module_version": "2.0.0",
       "_model_name": "HBoxModel",
       "_view_count": null,
       "_view_module": "@jupyter-widgets/controls",
       "_view_module_version": "2.0.0",
       "_view_name": "HBoxView",
       "box_style": "",
       "children": [
        "IPY_MODEL_2cba35d68ab44e56850321c35040c77e",
        "IPY_MODEL_43800cb294b24a7192b79c2a8a7b6aed",
        "IPY_MODEL_77794abfd07641b1b3b4dff7a3f6fd55"
       ],
       "layout": "IPY_MODEL_1a283ad85e054a63ba7dc19248681080",
       "tabbable": null,
       "tooltip": null
      }
     }
    },
    "version_major": 2,
    "version_minor": 0
   }
  }
 },
 "nbformat": 4,
 "nbformat_minor": 5
}
